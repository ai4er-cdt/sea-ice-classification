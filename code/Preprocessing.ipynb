{
 "cells": [
  {
   "cell_type": "markdown",
   "metadata": {},
   "source": [
    "Tiling \n",
    "1. Tile one SAR image\n",
    "2. Tile one SAR image and the corresponding sea ice chart\n",
    "3. Tile all SAR images and all corresponding sea ice charts\n",
    "\n",
    "Removal of NULL values\n",
    "1. Remove tiled SAR image if it contains null value\n",
    "2. Remove tiled SAR image and the corresponding sea ice chart if SAR image contains null value\n",
    "3. Remove all tiled SAR images and their corresponding sea ice chart if SAR images contain nulls\n",
    "\n",
    "Checking\n",
    "1. Write a function to validate the outputs at each stage\n",
    "\n",
    "Notes/to-do: \n",
    "1. Allow tile size to be input as a variable\n",
    "2. Add moving window\n",
    "3. Add checks to avoid failures / validate the output\n",
    "4. Write instructions/docs for code\n",
    "5. Ensure output paths are set correctly\n",
    "6. Apply the tiling and NULL removal for all files\n",
    "6. Try to merge the tiling and NILL removal steps into one function (to avoid saving 1000s of tiles before NULLs are removed)\n",
    "7. Modify code to refer to data in shared OneDrive rather than on my machine"
   ]
  },
  {
   "cell_type": "markdown",
   "metadata": {},
   "source": [
    "# Step 1: Tile one SAR image"
   ]
  },
  {
   "cell_type": "code",
   "execution_count": 136,
   "metadata": {},
   "outputs": [],
   "source": [
    "#### DO NOT EDIT THIS ####\n",
    "\n",
    "# This worked, creating 1260 files\n",
    "# CRS, no. of bands, and divisibility into 256x256 are important\n",
    "\n",
    "import rasterio\n",
    "from rasterio.windows import Window\n",
    "import os\n",
    "from datetime import datetime\n",
    "\n",
    "def tile_sar_image(input_path, output_folder):\n",
    "    with rasterio.open(input_path) as src:\n",
    "        # Get the dimensions of the input image\n",
    "        width, height = src.width, src.height\n",
    "\n",
    "        # Extract the date from the filename\n",
    "        filename = os.path.basename(input_path)\n",
    "        date_string = filename.split(\"_\")[4]\n",
    "        date = datetime.strptime(date_string, \"%Y%m%dT%H%M%S\")\n",
    "        \n",
    "        # Calculate the number of tiles needed in the x and y direction\n",
    "        num_tiles_x = width // 256\n",
    "        num_tiles_y = height // 256\n",
    "        \n",
    "        # Create the window for each tile\n",
    "        for y in range(num_tiles_y):\n",
    "            for x in range(num_tiles_x):\n",
    "                window = Window(x*256, y*256, 256, 256)\n",
    "                tile = src.read(window=window)\n",
    "                \n",
    "                # Save the tile to the output folder\n",
    "                with rasterio.open(f\"{output_folder}/tile_{x}_{y}_{date}.tif\", 'w', driver='GTiff', \n",
    "                                   width=256, height=256, count=3, crs=src.crs, dtype=tile.dtype,\n",
    "                                   transform=src.window_transform(window)) as dst:\n",
    "                    dst.write(tile)"
   ]
  },
  {
   "cell_type": "code",
   "execution_count": 5,
   "metadata": {},
   "outputs": [],
   "source": []
  },
  {
   "cell_type": "code",
   "execution_count": 6,
   "metadata": {},
   "outputs": [],
   "source": [
    "tile_sar_image('/Users/meghanplumridge/Desktop/sea_ice_classification/dual_band_images/S1B_EW_GRDM_1SDH_20180104T224159_20180104T224303_009027_010213_47AC.tif', output_folder='/Users/meghanplumridge/Desktop/sea_ice_classification/')"
   ]
  },
  {
   "cell_type": "markdown",
   "metadata": {},
   "source": [
    "# Check output"
   ]
  },
  {
   "cell_type": "code",
   "execution_count": 82,
   "metadata": {},
   "outputs": [
    {
     "name": "stdout",
     "output_type": "stream",
     "text": [
      "{'driver': 'GTiff', 'dtype': 'float32', 'nodata': None, 'width': 16144, 'height': 5342, 'count': 3, 'crs': CRS.from_epsg(4326), 'transform': Affine(0.0007186522272956172, 0.0, -30.93438512393984,\n",
      "       0.0, -0.0007186522272956172, -71.44912308995755), 'blockxsize': 256, 'blockysize': 256, 'tiled': True, 'compress': 'lzw', 'interleave': 'pixel'}\n",
      "{'driver': 'GTiff', 'dtype': 'float32', 'nodata': None, 'width': 256, 'height': 256, 'count': 3, 'crs': CRS.from_epsg(4326), 'transform': Affine(0.0007186522272956172, 0.0, -30.93438512393984,\n",
      "       0.0, -0.0007186522272956172, -73.10489782164666), 'blockysize': 2, 'tiled': False, 'interleave': 'pixel'}\n"
     ]
    }
   ],
   "source": [
    "# Details of input SAR image\n",
    "SAR_image=rasterio.open('/Users/meghanplumridge/Desktop/sea_ice_classification/dual_band_images/S1B_EW_GRDM_1SDH_20180104T224159_20180104T224303_009027_010213_47AC.tif')\n",
    "SAR_image_array = SAR_image.read()\n",
    "SAR_image_metadata = SAR_image.profile\n",
    "print(SAR_image_metadata)\n",
    "\n",
    "# Details of output tile\n",
    "tile_image=rasterio.open('/Users/meghanplumridge/Desktop/sea_ice_classification/tile_0_9.tif')\n",
    "tile_image_array = tile_image.read()\n",
    "tile_image_metadata = tile_image.profile\n",
    "print(tile_image_metadata)"
   ]
  },
  {
   "cell_type": "markdown",
   "metadata": {},
   "source": [
    "# Step 2: Tile corresponding sea ice chart"
   ]
  },
  {
   "cell_type": "code",
   "execution_count": 118,
   "metadata": {},
   "outputs": [],
   "source": [
    "# This worked, creating 1260 files\n",
    "# Removed count=3\n",
    "\n",
    "import rasterio\n",
    "from rasterio.windows import Window\n",
    "\n",
    "def tile_SIC_image(input_path, output_folder):\n",
    "    with rasterio.open(input_path) as src:\n",
    "        # Get the dimensions of the input image\n",
    "        width, height = src.width, src.height\n",
    "\n",
    "        # Extract the date from the filename and change to SAR format\n",
    "        date = input_path.split(\"/\")[-1].split(\".\")[0]\n",
    "        formatted_date = \"{}-{}-{}\".format(date[0:4], date[4:6], date[6:8])\n",
    "        \n",
    "        # Calculate the number of tiles needed in the x and y direction\n",
    "        num_tiles_x = width // 256\n",
    "        num_tiles_y = height // 256\n",
    "        \n",
    "        # Create the window for each tile\n",
    "        for y in range(num_tiles_y):\n",
    "            for x in range(num_tiles_x):\n",
    "                window = Window(x*256, y*256, 256, 256)\n",
    "                tile = src.read(window=window)\n",
    "                \n",
    "                # Save the tile to the output folder\n",
    "                with rasterio.open(f\"{output_folder}/tile_{x}_{y}_{formatted_date}.tif\", 'w', driver='GTiff', \n",
    "                                   width=256, height=256, count=1, crs=src.crs, dtype=tile.dtype,\n",
    "                                   transform=src.window_transform(window)) as dst:\n",
    "                    dst.write(tile)"
   ]
  },
  {
   "cell_type": "code",
   "execution_count": 119,
   "metadata": {},
   "outputs": [],
   "source": [
    "tile_SIC_image('/Users/meghanplumridge/Desktop/sea_ice_classification/rasterised_shapefiles/20180104.tiff', output_folder='/Users/meghanplumridge/Desktop/sea_ice_classification/')"
   ]
  },
  {
   "cell_type": "markdown",
   "metadata": {},
   "source": [
    "# Check Output"
   ]
  },
  {
   "cell_type": "code",
   "execution_count": 87,
   "metadata": {},
   "outputs": [
    {
     "name": "stdout",
     "output_type": "stream",
     "text": [
      "{'driver': 'GTiff', 'dtype': 'uint8', 'nodata': 100.0, 'width': 16144, 'height': 5342, 'count': 1, 'crs': None, 'transform': Affine(0.0007186522272956172, 0.0, -30.93438512393984,\n",
      "       0.0, 0.0007186522272956172, -75.28816328817074), 'blockysize': 1, 'tiled': False, 'interleave': 'band'}\n",
      "{'driver': 'GTiff', 'dtype': 'uint8', 'nodata': None, 'width': 256, 'height': 256, 'count': 1, 'crs': None, 'transform': Affine(0.0007186522272956172, 0.0, -30.93438512393984,\n",
      "       0.0, 0.0007186522272956172, -75.10418831798306), 'blockysize': 32, 'tiled': False, 'interleave': 'band'}\n"
     ]
    }
   ],
   "source": [
    "# Details of input sea ice chart\n",
    "sea_ice_chart=rasterio.open('/Users/meghanplumridge/Desktop/sea_ice_classification/rasterised_shapefiles/20180104.tiff')\n",
    "sea_ice_chart_array = sea_ice_chart.read()\n",
    "sea_ice_chart_metadata = sea_ice_chart.profile\n",
    "print(sea_ice_chart_metadata)\n",
    "\n",
    "# Details of one output sea ice chart\n",
    "sea_ice_chart=rasterio.open('/Users/meghanplumridge/Desktop/sea_ice_classification/SIC_tile_0_1.tif')\n",
    "sea_ice_chart_array = sea_ice_chart.read()\n",
    "sea_ice_chart_metadata = sea_ice_chart.profile\n",
    "print(sea_ice_chart_metadata)"
   ]
  },
  {
   "cell_type": "markdown",
   "metadata": {},
   "source": [
    "# Step 3: Remove SAR tiles containing NULL values"
   ]
  },
  {
   "cell_type": "code",
   "execution_count": 122,
   "metadata": {},
   "outputs": [
    {
     "name": "stdout",
     "output_type": "stream",
     "text": [
      "The following files were removed:\n",
      "tile_61_0_2018-01-04 22:41:59.tif\n",
      "tile_62_1_2018-01-04 22:41:59.tif\n",
      "tile_0_18_2018-01-04 22:41:59.tif\n",
      "tile_0_17_2018-01-04 22:41:59.tif\n",
      "tile_47_0_2018-01-04 22:41:59.tif\n",
      "tile_49_2_2018-01-04 22:41:59.tif\n",
      "tile_8_0_2018-01-04 22:41:59.tif\n",
      "tile_53_19_2018-01-04 22:41:59.tif\n",
      "tile_6_2_2018-01-04 22:41:59.tif\n",
      "tile_51_1_2018-01-04 22:41:59.tif\n",
      "tile_3_19_2018-01-04 22:41:59.tif\n",
      "tile_52_0_2018-01-04 22:41:59.tif\n",
      "tile_59_1_2018-01-04 22:41:59.tif\n",
      "tile_0_0_2018-01-04 22:41:59.tif\n",
      "tile_57_3_2018-01-04 22:41:59.tif\n",
      "tile_49_19_2018-01-04 22:41:59.tif\n",
      "tile_3_1_2018-01-04 22:41:59.tif\n",
      "tile_54_2_2018-01-04 22:41:59.tif\n",
      "tile_53_2_2018-01-04 22:41:59.tif\n",
      "tile_4_1_2018-01-04 22:41:59.tif\n",
      "tile_58_16_2018-01-04 22:41:59.tif\n",
      "tile_61_16_2018-01-04 22:41:59.tif\n",
      "tile_7_0_2018-01-04 22:41:59.tif\n",
      "tile_61_19_2018-01-04 22:41:59.tif\n",
      "tile_55_0_2018-01-04 22:41:59.tif\n",
      "tile_4_19_2018-01-04 22:41:59.tif\n",
      "tile_2_3_2018-01-04 22:41:59.tif\n",
      "tile_61_4_2018-01-04 22:41:59.tif\n",
      "tile_8_19_2018-01-04 22:41:59.tif\n",
      "tile_58_3_2018-01-04 22:41:59.tif\n",
      "tile_58_19_2018-01-04 22:41:59.tif\n",
      "tile_56_1_2018-01-04 22:41:59.tif\n",
      "tile_1_2_2018-01-04 22:41:59.tif\n",
      "tile_62_5_2018-01-04 22:41:59.tif\n",
      "tile_54_19_2018-01-04 22:41:59.tif\n",
      "tile_60_15_2018-01-04 22:41:59.tif\n",
      "tile_12_19_2018-01-04 22:41:59.tif\n",
      "tile_57_17_2018-01-04 22:41:59.tif\n",
      "tile_62_17_2018-01-04 22:41:59.tif\n",
      "tile_60_2_2018-01-04 22:41:59.tif\n",
      "tile_7_18_2018-01-04 22:41:59.tif\n",
      "tile_62_18_2018-01-04 22:41:59.tif\n",
      "tile_48_0_2018-01-04 22:41:59.tif\n",
      "tile_11_0_2018-01-04 22:41:59.tif\n",
      "tile_57_18_2018-01-04 22:41:59.tif\n",
      "tile_57_4_2018-01-04 22:41:59.tif\n",
      "tile_60_16_2018-01-04 22:41:59.tif\n",
      "tile_60_1_2018-01-04 22:41:59.tif\n",
      "tile_59_16_2018-01-04 22:41:59.tif\n",
      "tile_59_19_2018-01-04 22:41:59.tif\n",
      "tile_46_1_2018-01-04 22:41:59.tif\n",
      "tile_55_19_2018-01-04 22:41:59.tif\n",
      "tile_45_0_2018-01-04 22:41:59.tif\n",
      "tile_60_19_2018-01-04 22:41:59.tif\n",
      "tile_5_19_2018-01-04 22:41:59.tif\n",
      "tile_9_19_2018-01-04 22:41:59.tif\n",
      "tile_53_1_2018-01-04 22:41:59.tif\n",
      "tile_4_2_2018-01-04 22:41:59.tif\n",
      "tile_61_15_2018-01-04 22:41:59.tif\n",
      "tile_50_0_2018-01-04 22:41:59.tif\n",
      "tile_13_19_2018-01-04 22:41:59.tif\n",
      "tile_9_1_2018-01-04 22:41:59.tif\n",
      "tile_56_17_2018-01-04 22:41:59.tif\n",
      "tile_56_18_2018-01-04 22:41:59.tif\n",
      "tile_55_3_2018-01-04 22:41:59.tif\n",
      "tile_2_0_2018-01-04 22:41:59.tif\n",
      "tile_6_18_2018-01-04 22:41:59.tif\n",
      "tile_56_2_2018-01-04 22:41:59.tif\n",
      "tile_1_1_2018-01-04 22:41:59.tif\n",
      "tile_58_0_2018-01-04 22:41:59.tif\n",
      "tile_6_1_2018-01-04 22:41:59.tif\n",
      "tile_51_2_2018-01-04 22:41:59.tif\n",
      "tile_1_18_2018-01-04 22:41:59.tif\n",
      "tile_5_0_2018-01-04 22:41:59.tif\n",
      "tile_0_3_2018-01-04 22:41:59.tif\n",
      "tile_57_0_2018-01-04 22:41:59.tif\n",
      "tile_59_2_2018-01-04 22:41:59.tif\n",
      "tile_1_17_2018-01-04 22:41:59.tif\n",
      "tile_3_2_2018-01-04 22:41:59.tif\n",
      "tile_54_1_2018-01-04 22:41:59.tif\n",
      "tile_2_19_2018-01-04 22:41:59.tif\n",
      "tile_61_3_2018-01-04 22:41:59.tif\n",
      "tile_42_0_2018-01-04 22:41:59.tif\n",
      "tile_58_4_2018-01-04 22:41:59.tif\n",
      "tile_52_19_2018-01-04 22:41:59.tif\n",
      "tile_62_2_2018-01-04 22:41:59.tif\n",
      "tile_10_1_2018-01-04 22:41:59.tif\n",
      "tile_49_1_2018-01-04 22:41:59.tif\n",
      "tile_13_0_2018-01-04 22:41:59.tif\n",
      "tile_2_16_2018-01-04 22:41:59.tif\n",
      "tile_57_19_2018-01-04 22:41:59.tif\n",
      "tile_7_19_2018-01-04 22:41:59.tif\n",
      "tile_62_19_2018-01-04 22:41:59.tif\n",
      "tile_48_1_2018-01-04 22:41:59.tif\n",
      "tile_12_0_2018-01-04 22:41:59.tif\n",
      "tile_43_0_2018-01-04 22:41:59.tif\n",
      "tile_60_3_2018-01-04 22:41:59.tif\n",
      "tile_62_16_2018-01-04 22:41:59.tif\n",
      "tile_57_16_2018-01-04 22:41:59.tif\n",
      "tile_59_4_2018-01-04 22:41:59.tif\n",
      "tile_62_4_2018-01-04 22:41:59.tif\n",
      "tile_54_18_2018-01-04 22:41:59.tif\n",
      "tile_58_18_2018-01-04 22:41:59.tif\n",
      "tile_58_2_2018-01-04 22:41:59.tif\n",
      "tile_56_0_2018-01-04 22:41:59.tif\n",
      "tile_1_3_2018-01-04 22:41:59.tif\n",
      "tile_61_5_2018-01-04 22:41:59.tif\n",
      "tile_8_18_2018-01-04 22:41:59.tif\n",
      "tile_61_18_2018-01-04 22:41:59.tif\n",
      "tile_55_1_2018-01-04 22:41:59.tif\n",
      "tile_2_2_2018-01-04 22:41:59.tif\n",
      "tile_4_18_2018-01-04 22:41:59.tif\n",
      "tile_61_17_2018-01-04 22:41:59.tif\n",
      "tile_50_2_2018-01-04 22:41:59.tif\n",
      "tile_4_17_2018-01-04 22:41:59.tif\n",
      "tile_7_1_2018-01-04 22:41:59.tif\n",
      "tile_53_3_2018-01-04 22:41:59.tif\n",
      "tile_4_0_2018-01-04 22:41:59.tif\n",
      "tile_11_19_2018-01-04 22:41:59.tif\n",
      "tile_58_17_2018-01-04 22:41:59.tif\n",
      "tile_3_0_2018-01-04 22:41:59.tif\n",
      "tile_54_3_2018-01-04 22:41:59.tif\n",
      "tile_3_17_2018-01-04 22:41:59.tif\n",
      "tile_59_0_2018-01-04 22:41:59.tif\n",
      "tile_0_1_2018-01-04 22:41:59.tif\n",
      "tile_57_2_2018-01-04 22:41:59.tif\n",
      "tile_5_2_2018-01-04 22:41:59.tif\n",
      "tile_52_1_2018-01-04 22:41:59.tif\n",
      "tile_3_18_2018-01-04 22:41:59.tif\n",
      "tile_8_1_2018-01-04 22:41:59.tif\n",
      "tile_53_18_2018-01-04 22:41:59.tif\n",
      "tile_51_0_2018-01-04 22:41:59.tif\n",
      "tile_47_1_2018-01-04 22:41:59.tif\n",
      "tile_44_0_2018-01-04 22:41:59.tif\n",
      "tile_0_16_2018-01-04 22:41:59.tif\n",
      "tile_0_19_2018-01-04 22:41:59.tif\n",
      "tile_62_0_2018-01-04 22:41:59.tif\n",
      "tile_50_19_2018-01-04 22:41:59.tif\n",
      "tile_61_1_2018-01-04 22:41:59.tif\n",
      "tile_2_17_2018-01-04 22:41:59.tif\n",
      "tile_49_0_2018-01-04 22:41:59.tif\n",
      "tile_10_0_2018-01-04 22:41:59.tif\n",
      "tile_52_18_2018-01-04 22:41:59.tif\n",
      "tile_62_3_2018-01-04 22:41:59.tif\n",
      "tile_41_0_2018-01-04 22:41:59.tif\n",
      "tile_61_2_2018-01-04 22:41:59.tif\n",
      "tile_2_18_2018-01-04 22:41:59.tif\n",
      "tile_3_3_2018-01-04 22:41:59.tif\n",
      "tile_54_0_2018-01-04 22:41:59.tif\n",
      "tile_1_16_2018-01-04 22:41:59.tif\n",
      "tile_60_4_2018-01-04 22:41:59.tif\n",
      "tile_0_2_2018-01-04 22:41:59.tif\n",
      "tile_57_1_2018-01-04 22:41:59.tif\n",
      "tile_59_3_2018-01-04 22:41:59.tif\n",
      "tile_51_19_2018-01-04 22:41:59.tif\n",
      "tile_5_1_2018-01-04 22:41:59.tif\n",
      "tile_52_2_2018-01-04 22:41:59.tif\n",
      "tile_1_19_2018-01-04 22:41:59.tif\n",
      "tile_6_0_2018-01-04 22:41:59.tif\n",
      "tile_56_3_2018-01-04 22:41:59.tif\n",
      "tile_6_19_2018-01-04 22:41:59.tif\n",
      "tile_1_0_2018-01-04 22:41:59.tif\n",
      "tile_58_1_2018-01-04 22:41:59.tif\n",
      "tile_55_2_2018-01-04 22:41:59.tif\n",
      "tile_2_1_2018-01-04 22:41:59.tif\n",
      "tile_56_19_2018-01-04 22:41:59.tif\n",
      "tile_50_1_2018-01-04 22:41:59.tif\n",
      "tile_9_0_2018-01-04 22:41:59.tif\n",
      "tile_53_0_2018-01-04 22:41:59.tif\n",
      "tile_9_18_2018-01-04 22:41:59.tif\n",
      "tile_45_1_2018-01-04 22:41:59.tif\n",
      "tile_60_18_2018-01-04 22:41:59.tif\n",
      "tile_5_18_2018-01-04 22:41:59.tif\n",
      "tile_55_18_2018-01-04 22:41:59.tif\n",
      "tile_59_18_2018-01-04 22:41:59.tif\n",
      "tile_46_0_2018-01-04 22:41:59.tif\n",
      "tile_62_15_2018-01-04 22:41:59.tif\n",
      "tile_60_0_2018-01-04 22:41:59.tif\n",
      "tile_10_19_2018-01-04 22:41:59.tif\n",
      "tile_59_17_2018-01-04 22:41:59.tif\n",
      "tile_55_17_2018-01-04 22:41:59.tif\n",
      "tile_60_17_2018-01-04 22:41:59.tif\n",
      "tile_5_17_2018-01-04 22:41:59.tif\n"
     ]
    }
   ],
   "source": [
    "# Running this on the above examples left me with 1077 files, meaning 1260 - 1077 = 183 tiles were removed.\n",
    "\n",
    "import os\n",
    "import rasterio\n",
    "import numpy as np\n",
    "\n",
    "# specify the directory containing the .tif files\n",
    "tile_directory = '/Users/meghanplumridge/Desktop/sea_ice_classification/Good_SAR_Tile_Output/'\n",
    "\n",
    "# initialize a list to store the names of the files that will be removed\n",
    "removed_tiles = []\n",
    "\n",
    "# loop through all .tif files in the directory\n",
    "for tile in os.listdir(tile_directory):\n",
    "    if tile.endswith('.tif'):\n",
    "        file_path = os.path.join(tile_directory, tile)\n",
    "        \n",
    "        # open the file using rasterio\n",
    "        with rasterio.open(file_path) as src:\n",
    "            data = src.read()\n",
    "            # check if the file contains any NULL values\n",
    "            if np.count_nonzero(np.isnan(data)) > 0:\n",
    "            #if (data == src.nodata).any():\n",
    "                # if it does, add the file name to the list of removed files\n",
    "                removed_tiles.append(tile)\n",
    "                # remove the file\n",
    "                os.remove(file_path)\n",
    "\n",
    "# print the list of removed files\n",
    "print(\"The following files were removed:\")\n",
    "for file in removed_tiles:\n",
    "    print(file)\n",
    "    count(file)"
   ]
  },
  {
   "cell_type": "markdown",
   "metadata": {},
   "source": [
    "# Step 4: Remove the corresponding SIC tiles"
   ]
  },
  {
   "cell_type": "code",
   "execution_count": 128,
   "metadata": {},
   "outputs": [],
   "source": [
    "### Not working yet ###\n",
    "\n",
    "import os\n",
    "import numpy as np\n",
    "import rasterio as rio\n",
    "\n",
    "# Change SAR filenames to match SIC filenames\n",
    "filename = \"tile_31_19_2018-01-04 22:41:59.tif\"\n",
    "new_filename = filename.split(\" \")[0]+\".tif\"\n",
    "os.rename(filename, new_filename)SAR_tiles = filename.split(\" \")[0]+\".tif\"\n",
    "\n",
    "# Remove SAR tiles containing NULL values\n",
    "def remove_null_tiles(sar_dir, sic_dir):\n",
    "    removed_tiles = []\n",
    "    for filename in os.listdir(sar_dir):\n",
    "        if filename.endswith(\".tif\"):\n",
    "            filepath = os.path.join(sar_dir, filename)\n",
    "            with rio.open(filepath) as src:\n",
    "                data = src.read(1)\n",
    "                if np.isnan(data).any():\n",
    "                    removed_tiles.append(filename)\n",
    "                    os.remove(filepath)\n",
    "                    \n",
    "# Remove corresponding SICs in the filenames match on date\n",
    "    for filename in os.listdir(sic_dir):\n",
    "        if filename.endswith(\".tif\"):\n",
    "            date = filename.split(\"_\")[-1][:-4]\n",
    "            if date in [f.split(\"_\")[-1][:-4] for f in removed_tiles]:\n",
    "                filepath = os.path.join(sic_dir, filename)\n",
    "                os.remove(filepath)\n",
    "    \n",
    "    return removed_tiles"
   ]
  },
  {
   "cell_type": "code",
   "execution_count": 133,
   "metadata": {},
   "outputs": [
    {
     "name": "stdout",
     "output_type": "stream",
     "text": [
      "Number of removed files: 183\n",
      "Removed Tiles:  ['tile_61_0_2018-01-04 22:41:59.tif', 'tile_62_1_2018-01-04 22:41:59.tif', 'tile_0_18_2018-01-04 22:41:59.tif', 'tile_0_17_2018-01-04 22:41:59.tif', 'tile_47_0_2018-01-04 22:41:59.tif', 'tile_49_2_2018-01-04 22:41:59.tif', 'tile_8_0_2018-01-04 22:41:59.tif', 'tile_53_19_2018-01-04 22:41:59.tif', 'tile_6_2_2018-01-04 22:41:59.tif', 'tile_51_1_2018-01-04 22:41:59.tif', 'tile_3_19_2018-01-04 22:41:59.tif', 'tile_52_0_2018-01-04 22:41:59.tif', 'tile_59_1_2018-01-04 22:41:59.tif', 'tile_0_0_2018-01-04 22:41:59.tif', 'tile_57_3_2018-01-04 22:41:59.tif', 'tile_49_19_2018-01-04 22:41:59.tif', 'tile_3_1_2018-01-04 22:41:59.tif', 'tile_54_2_2018-01-04 22:41:59.tif', 'tile_53_2_2018-01-04 22:41:59.tif', 'tile_4_1_2018-01-04 22:41:59.tif', 'tile_58_16_2018-01-04 22:41:59.tif', 'tile_61_16_2018-01-04 22:41:59.tif', 'tile_7_0_2018-01-04 22:41:59.tif', 'tile_61_19_2018-01-04 22:41:59.tif', 'tile_55_0_2018-01-04 22:41:59.tif', 'tile_4_19_2018-01-04 22:41:59.tif', 'tile_2_3_2018-01-04 22:41:59.tif', 'tile_61_4_2018-01-04 22:41:59.tif', 'tile_8_19_2018-01-04 22:41:59.tif', 'tile_58_3_2018-01-04 22:41:59.tif', 'tile_58_19_2018-01-04 22:41:59.tif', 'tile_56_1_2018-01-04 22:41:59.tif', 'tile_1_2_2018-01-04 22:41:59.tif', 'tile_62_5_2018-01-04 22:41:59.tif', 'tile_54_19_2018-01-04 22:41:59.tif', 'tile_60_15_2018-01-04 22:41:59.tif', 'tile_12_19_2018-01-04 22:41:59.tif', 'tile_57_17_2018-01-04 22:41:59.tif', 'tile_62_17_2018-01-04 22:41:59.tif', 'tile_60_2_2018-01-04 22:41:59.tif', 'tile_7_18_2018-01-04 22:41:59.tif', 'tile_62_18_2018-01-04 22:41:59.tif', 'tile_48_0_2018-01-04 22:41:59.tif', 'tile_11_0_2018-01-04 22:41:59.tif', 'tile_57_18_2018-01-04 22:41:59.tif', 'tile_57_4_2018-01-04 22:41:59.tif', 'tile_60_16_2018-01-04 22:41:59.tif', 'tile_60_1_2018-01-04 22:41:59.tif', 'tile_59_16_2018-01-04 22:41:59.tif', 'tile_59_19_2018-01-04 22:41:59.tif', 'tile_46_1_2018-01-04 22:41:59.tif', 'tile_55_19_2018-01-04 22:41:59.tif', 'tile_45_0_2018-01-04 22:41:59.tif', 'tile_60_19_2018-01-04 22:41:59.tif', 'tile_5_19_2018-01-04 22:41:59.tif', 'tile_9_19_2018-01-04 22:41:59.tif', 'tile_53_1_2018-01-04 22:41:59.tif', 'tile_4_2_2018-01-04 22:41:59.tif', 'tile_61_15_2018-01-04 22:41:59.tif', 'tile_50_0_2018-01-04 22:41:59.tif', 'tile_13_19_2018-01-04 22:41:59.tif', 'tile_9_1_2018-01-04 22:41:59.tif', 'tile_56_17_2018-01-04 22:41:59.tif', 'tile_56_18_2018-01-04 22:41:59.tif', 'tile_55_3_2018-01-04 22:41:59.tif', 'tile_2_0_2018-01-04 22:41:59.tif', 'tile_6_18_2018-01-04 22:41:59.tif', 'tile_56_2_2018-01-04 22:41:59.tif', 'tile_1_1_2018-01-04 22:41:59.tif', 'tile_58_0_2018-01-04 22:41:59.tif', 'tile_6_1_2018-01-04 22:41:59.tif', 'tile_51_2_2018-01-04 22:41:59.tif', 'tile_1_18_2018-01-04 22:41:59.tif', 'tile_5_0_2018-01-04 22:41:59.tif', 'tile_0_3_2018-01-04 22:41:59.tif', 'tile_57_0_2018-01-04 22:41:59.tif', 'tile_59_2_2018-01-04 22:41:59.tif', 'tile_1_17_2018-01-04 22:41:59.tif', 'tile_3_2_2018-01-04 22:41:59.tif', 'tile_54_1_2018-01-04 22:41:59.tif', 'tile_2_19_2018-01-04 22:41:59.tif', 'tile_61_3_2018-01-04 22:41:59.tif', 'tile_42_0_2018-01-04 22:41:59.tif', 'tile_58_4_2018-01-04 22:41:59.tif', 'tile_52_19_2018-01-04 22:41:59.tif', 'tile_62_2_2018-01-04 22:41:59.tif', 'tile_10_1_2018-01-04 22:41:59.tif', 'tile_49_1_2018-01-04 22:41:59.tif', 'tile_13_0_2018-01-04 22:41:59.tif', 'tile_2_16_2018-01-04 22:41:59.tif', 'tile_57_19_2018-01-04 22:41:59.tif', 'tile_7_19_2018-01-04 22:41:59.tif', 'tile_62_19_2018-01-04 22:41:59.tif', 'tile_48_1_2018-01-04 22:41:59.tif', 'tile_12_0_2018-01-04 22:41:59.tif', 'tile_43_0_2018-01-04 22:41:59.tif', 'tile_60_3_2018-01-04 22:41:59.tif', 'tile_62_16_2018-01-04 22:41:59.tif', 'tile_57_16_2018-01-04 22:41:59.tif', 'tile_59_4_2018-01-04 22:41:59.tif', 'tile_62_4_2018-01-04 22:41:59.tif', 'tile_54_18_2018-01-04 22:41:59.tif', 'tile_58_18_2018-01-04 22:41:59.tif', 'tile_58_2_2018-01-04 22:41:59.tif', 'tile_56_0_2018-01-04 22:41:59.tif', 'tile_1_3_2018-01-04 22:41:59.tif', 'tile_61_5_2018-01-04 22:41:59.tif', 'tile_8_18_2018-01-04 22:41:59.tif', 'tile_61_18_2018-01-04 22:41:59.tif', 'tile_55_1_2018-01-04 22:41:59.tif', 'tile_2_2_2018-01-04 22:41:59.tif', 'tile_4_18_2018-01-04 22:41:59.tif', 'tile_61_17_2018-01-04 22:41:59.tif', 'tile_50_2_2018-01-04 22:41:59.tif', 'tile_4_17_2018-01-04 22:41:59.tif', 'tile_7_1_2018-01-04 22:41:59.tif', 'tile_53_3_2018-01-04 22:41:59.tif', 'tile_4_0_2018-01-04 22:41:59.tif', 'tile_11_19_2018-01-04 22:41:59.tif', 'tile_58_17_2018-01-04 22:41:59.tif', 'tile_3_0_2018-01-04 22:41:59.tif', 'tile_54_3_2018-01-04 22:41:59.tif', 'tile_3_17_2018-01-04 22:41:59.tif', 'tile_59_0_2018-01-04 22:41:59.tif', 'tile_0_1_2018-01-04 22:41:59.tif', 'tile_57_2_2018-01-04 22:41:59.tif', 'tile_5_2_2018-01-04 22:41:59.tif', 'tile_52_1_2018-01-04 22:41:59.tif', 'tile_3_18_2018-01-04 22:41:59.tif', 'tile_8_1_2018-01-04 22:41:59.tif', 'tile_53_18_2018-01-04 22:41:59.tif', 'tile_51_0_2018-01-04 22:41:59.tif', 'tile_47_1_2018-01-04 22:41:59.tif', 'tile_44_0_2018-01-04 22:41:59.tif', 'tile_0_16_2018-01-04 22:41:59.tif', 'tile_0_19_2018-01-04 22:41:59.tif', 'tile_62_0_2018-01-04 22:41:59.tif', 'tile_50_19_2018-01-04 22:41:59.tif', 'tile_61_1_2018-01-04 22:41:59.tif', 'tile_2_17_2018-01-04 22:41:59.tif', 'tile_49_0_2018-01-04 22:41:59.tif', 'tile_10_0_2018-01-04 22:41:59.tif', 'tile_52_18_2018-01-04 22:41:59.tif', 'tile_62_3_2018-01-04 22:41:59.tif', 'tile_41_0_2018-01-04 22:41:59.tif', 'tile_61_2_2018-01-04 22:41:59.tif', 'tile_2_18_2018-01-04 22:41:59.tif', 'tile_3_3_2018-01-04 22:41:59.tif', 'tile_54_0_2018-01-04 22:41:59.tif', 'tile_1_16_2018-01-04 22:41:59.tif', 'tile_60_4_2018-01-04 22:41:59.tif', 'tile_0_2_2018-01-04 22:41:59.tif', 'tile_57_1_2018-01-04 22:41:59.tif', 'tile_59_3_2018-01-04 22:41:59.tif', 'tile_51_19_2018-01-04 22:41:59.tif', 'tile_5_1_2018-01-04 22:41:59.tif', 'tile_52_2_2018-01-04 22:41:59.tif', 'tile_1_19_2018-01-04 22:41:59.tif', 'tile_6_0_2018-01-04 22:41:59.tif', 'tile_56_3_2018-01-04 22:41:59.tif', 'tile_6_19_2018-01-04 22:41:59.tif', 'tile_1_0_2018-01-04 22:41:59.tif', 'tile_58_1_2018-01-04 22:41:59.tif', 'tile_55_2_2018-01-04 22:41:59.tif', 'tile_2_1_2018-01-04 22:41:59.tif', 'tile_56_19_2018-01-04 22:41:59.tif', 'tile_50_1_2018-01-04 22:41:59.tif', 'tile_9_0_2018-01-04 22:41:59.tif', 'tile_53_0_2018-01-04 22:41:59.tif', 'tile_9_18_2018-01-04 22:41:59.tif', 'tile_45_1_2018-01-04 22:41:59.tif', 'tile_60_18_2018-01-04 22:41:59.tif', 'tile_5_18_2018-01-04 22:41:59.tif', 'tile_55_18_2018-01-04 22:41:59.tif', 'tile_59_18_2018-01-04 22:41:59.tif', 'tile_46_0_2018-01-04 22:41:59.tif', 'tile_62_15_2018-01-04 22:41:59.tif', 'tile_60_0_2018-01-04 22:41:59.tif', 'tile_10_19_2018-01-04 22:41:59.tif', 'tile_59_17_2018-01-04 22:41:59.tif', 'tile_55_17_2018-01-04 22:41:59.tif', 'tile_60_17_2018-01-04 22:41:59.tif', 'tile_5_17_2018-01-04 22:41:59.tif']\n"
     ]
    }
   ],
   "source": [
    "removed_tiles = remove_null_tiles(\"/Users/meghanplumridge/Desktop/sea_ice_classification/Good_SAR_Tile_Output/\", \n",
    "                                  \"/Users/meghanplumridge/Desktop/sea_ice_classification/Good_SIC_Tile_Output/\")\n",
    "\n",
    "num_removed_files = len(removed_tiles)\n",
    "print(\"Number of removed files:\", num_removed_files)\n",
    "print(\"Removed Tiles: \", removed_tiles)\n"
   ]
  },
  {
   "cell_type": "code",
   "execution_count": null,
   "metadata": {},
   "outputs": [],
   "source": []
  },
  {
   "cell_type": "code",
   "execution_count": null,
   "metadata": {},
   "outputs": [],
   "source": []
  },
  {
   "cell_type": "code",
   "execution_count": null,
   "metadata": {},
   "outputs": [],
   "source": []
  },
  {
   "cell_type": "markdown",
   "metadata": {},
   "source": [
    "# Tile one SAR image and remove NULL values from output tiles in one step"
   ]
  },
  {
   "cell_type": "code",
   "execution_count": null,
   "metadata": {},
   "outputs": [],
   "source": [
    "# This worked, creating 1260 files\n",
    "# CRS, no. of bands, and divisibility into 256x256 are important\n",
    "\n",
    "import rasterio\n",
    "from rasterio.windows import Window\n",
    "import os\n",
    "from datetime import datetime\n",
    "import numpy as np\n",
    "\n",
    "def tile_sar_image(input_path, output_folder):\n",
    "    with rasterio.open(input_path) as src:\n",
    "        # Get the dimensions of the input image\n",
    "        width, height = src.width, src.height\n",
    "\n",
    "        # Extract the date from the filename\n",
    "        filename = os.path.basename(input_path)\n",
    "        date_string = filename.split(\"_\")[4]\n",
    "        date = datetime.strptime(date_string, \"%Y%m%dT%H%M%S\")\n",
    "        \n",
    "        # Calculate the number of tiles needed in the x and y direction\n",
    "        num_tiles_x = width // 256\n",
    "        num_tiles_y = height // 256\n",
    "        \n",
    "        # Create the window for each tile\n",
    "        for y in range(num_tiles_y):\n",
    "            for x in range(num_tiles_x):\n",
    "                window = Window(x*256, y*256, 256, 256)\n",
    "                tile = src.read(window=window)\n",
    "                if np.any(np.isnan(tile)):\n",
    "                    continue\n",
    "\n",
    "                output_file = os.path.join(output_folder, f\"tile_{x}_{y}_{date}.tif\")\n",
    "                \n",
    "                # Save the tile to the output folder\n",
    "                with rasterio.open(output_file, 'w', driver='GTiff', \n",
    "                                   width=256, height=256, count=3, crs=src.crs, dtype=tile.dtype,\n",
    "                                   transform=src.window_transform(window)) as dst:\n",
    "                    dst.write(tile)"
   ]
  },
  {
   "cell_type": "code",
   "execution_count": null,
   "metadata": {},
   "outputs": [],
   "source": [
    "tile_sar_image('/Users/meghanplumridge/Desktop/sea_ice_classification/dual_band_images/S1B_EW_GRDM_1SDH_20180104T224159_20180104T224303_009027_010213_47AC.tif', output_folder='/Users/meghanplumridge/Desktop/sea_ice_classification/')"
   ]
  },
  {
   "cell_type": "markdown",
   "metadata": {},
   "source": [
    "# Tile corresponding SIC image and remove any tiles which do not appear in the SAR output folder"
   ]
  },
  {
   "cell_type": "code",
   "execution_count": 10,
   "metadata": {},
   "outputs": [],
   "source": [
    "# Output names are:\n",
    "# tile_52_10_2018-01-04.tif\n",
    "# SIC_tile_52_10_2018-01-04.tif\n",
    "#### if 'tile_<number>' in the SIC tile does not match to a SAR tile, remove the SIC tile\n",
    "\n",
    "import os\n",
    "\n",
    "def get_tile_number(filename):\n",
    "    # Extract the tile number from the filename\n",
    "    return filename.split(\"_\")[1]\n",
    "\n",
    "def remove_files_without_match(dir1, dir2):\n",
    "    # Get a list of filenames in dir1\n",
    "    dir1_filenames = [f for f in os.listdir(dir1) if f.endswith(\".tif\")]\n",
    "    dir1_tile_numbers = set(get_tile_number(f) for f in dir1_filenames)\n",
    "    \n",
    "    # Get a list of filenames in dir2\n",
    "    dir2_filenames = [f for f in os.listdir(dir2) if f.endswith(\".tif\")]\n",
    "    \n",
    "    removed_files = []\n",
    "    for filename in dir2_filenames:\n",
    "        tile_number = get_tile_number(filename)\n",
    "        if tile_number not in dir1_tile_numbers:\n",
    "            # If there is no matching file in dir1, remove the file from dir2\n",
    "            os.remove(os.path.join(dir2, filename))\n",
    "            removed_files.append(filename)\n",
    "            \n",
    "    return removed_files"
   ]
  },
  {
   "cell_type": "code",
   "execution_count": 11,
   "metadata": {},
   "outputs": [],
   "source": [
    "SAR_dir = '/Users/meghanplumridge/Desktop/sea_ice_classification'\n",
    "SIC_dir = '/Users/meghanplumridge/Desktop/sea_ice_classification/Good_SIC_Tile_Output'"
   ]
  },
  {
   "cell_type": "code",
   "execution_count": 12,
   "metadata": {},
   "outputs": [
    {
     "name": "stdout",
     "output_type": "stream",
     "text": [
      "Removed files: ['SIC_tile_1_13_2018-01-04.tif', 'SIC_tile_49_13_2018-01-04.tif', 'SIC_tile_15_3_2018-01-04.tif', 'SIC_tile_32_15_2018-01-04.tif', 'SIC_tile_11_2_2018-01-04.tif', 'SIC_tile_4_14_2018-01-04.tif', 'SIC_tile_45_4_2018-01-04.tif', 'SIC_tile_37_12_2018-01-04.tif', 'SIC_tile_41_5_2018-01-04.tif', 'SIC_tile_31_9_2018-01-04.tif', 'SIC_tile_14_0_2018-01-04.tif', 'SIC_tile_52_17_2018-01-04.tif', 'SIC_tile_29_11_2018-01-04.tif', 'SIC_tile_3_18_2018-01-04.tif', 'SIC_tile_35_8_2018-01-04.tif', 'SIC_tile_10_1_2018-01-04.tif', 'SIC_tile_62_16_2018-01-04.tif', 'SIC_tile_35_19_2018-01-04.tif', 'SIC_tile_57_10_2018-01-04.tif', 'SIC_tile_44_7_2018-01-04.tif', 'SIC_tile_40_6_2018-01-04.tif', 'SIC_tile_19_10_2018-01-04.tif', 'SIC_tile_34_17_2018-01-04.tif', 'SIC_tile_54_9_2018-01-04.tif', 'SIC_tile_7_11_2018-01-04.tif', 'SIC_tile_50_8_2018-01-04.tif', 'SIC_tile_31_10_2018-01-04.tif', 'SIC_tile_53_19_2018-01-04.tif', 'SIC_tile_21_7_2018-01-04.tif', 'SIC_tile_2_16_2018-01-04.tif', 'SIC_tile_25_6_2018-01-04.tif', 'SIC_tile_9_9_2018-01-04.tif', 'SIC_tile_61_13_2018-01-04.tif', 'SIC_tile_54_15_2018-01-04.tif', 'SIC_tile_20_4_2018-01-04.tif', 'SIC_tile_51_12_2018-01-04.tif', 'SIC_tile_24_5_2018-01-04.tif', 'SIC_tile_33_13_2018-01-04.tif', 'SIC_tile_0_15_2018-01-04.tif', 'SIC_tile_48_15_2018-01-04.tif', 'SIC_tile_36_14_2018-01-04.tif', 'SIC_tile_51_3_2018-01-04.tif', 'SIC_tile_9_1_2018-01-04.tif', 'SIC_tile_5_12_2018-01-04.tif', 'SIC_tile_55_2_2018-01-04.tif', 'SIC_tile_28_17_2018-01-04.tif', 'SIC_tile_31_18_2018-01-04.tif', 'SIC_tile_53_11_2018-01-04.tif', 'SIC_tile_7_19_2018-01-04.tif', 'SIC_tile_50_0_2018-01-04.tif', 'SIC_tile_18_16_2018-01-04.tif', 'SIC_tile_8_2_2018-01-04.tif', 'SIC_tile_54_1_2018-01-04.tif', 'SIC_tile_56_16_2018-01-04.tif', 'SIC_tile_6_17_2018-01-04.tif', 'SIC_tile_7_4_2018-01-04.tif', 'SIC_tile_19_18_2018-01-04.tif', 'SIC_tile_35_11_2018-01-04.tif', 'SIC_tile_3_5_2018-01-04.tif', 'SIC_tile_57_18_2018-01-04.tif', 'SIC_tile_61_6_2018-01-04.tif', 'SIC_tile_29_19_2018-01-04.tif', 'SIC_tile_3_10_2018-01-04.tif', 'SIC_tile_35_0_2018-01-04.tif', 'SIC_tile_10_9_2018-01-04.tif', 'SIC_tile_30_16_2018-01-04.tif', 'SIC_tile_31_1_2018-01-04.tif', 'SIC_tile_14_8_2018-01-04.tif', 'SIC_tile_6_7_2018-01-04.tif', 'SIC_tile_60_15_2018-01-04.tif', 'SIC_tile_55_13_2018-01-04.tif', 'SIC_tile_2_6_2018-01-04.tif', 'SIC_tile_60_5_2018-01-04.tif', 'SIC_tile_34_3_2018-01-04.tif', 'SIC_tile_50_14_2018-01-04.tif', 'SIC_tile_30_2_2018-01-04.tif', 'SIC_tile_40_1_2018-01-04.tif', 'SIC_tile_19_17_2018-01-04.tif', 'SIC_tile_6_18_2018-01-04.tif', 'SIC_tile_61_9_2018-01-04.tif', 'SIC_tile_44_0_2018-01-04.tif', 'SIC_tile_57_17_2018-01-04.tif', 'SIC_tile_62_11_2018-01-04.tif', 'SIC_tile_10_6_2018-01-04.tif', 'SIC_tile_29_16_2018-01-04.tif', 'SIC_tile_52_10_2018-01-04.tif', 'SIC_tile_14_7_2018-01-04.tif', 'SIC_tile_30_19_2018-01-04.tif', 'SIC_tile_41_2_2018-01-04.tif', 'SIC_tile_6_8_2018-01-04.tif', 'SIC_tile_37_15_2018-01-04.tif', 'SIC_tile_45_3_2018-01-04.tif', 'SIC_tile_4_13_2018-01-04.tif', 'SIC_tile_2_9_2018-01-04.tif', 'SIC_tile_11_5_2018-01-04.tif', 'SIC_tile_32_12_2018-01-04.tif', 'SIC_tile_15_4_2018-01-04.tif', 'SIC_tile_49_14_2018-01-04.tif', 'SIC_tile_1_14_2018-01-04.tif', 'SIC_tile_24_2_2018-01-04.tif', 'SIC_tile_51_15_2018-01-04.tif', 'SIC_tile_20_3_2018-01-04.tif', 'SIC_tile_54_12_2018-01-04.tif', 'SIC_tile_61_14_2018-01-04.tif', 'SIC_tile_25_1_2018-01-04.tif', 'SIC_tile_28_18_2018-01-04.tif', 'SIC_tile_2_11_2018-01-04.tif', 'SIC_tile_21_0_2018-01-04.tif', 'SIC_tile_31_17_2018-01-04.tif', 'SIC_tile_18_19_2018-01-04.tif', 'SIC_tile_7_16_2018-01-04.tif', 'SIC_tile_56_19_2018-01-04.tif', 'SIC_tile_34_10_2018-01-04.tif', 'SIC_tile_56_11_2018-01-04.tif', 'SIC_tile_54_6_2018-01-04.tif', 'SIC_tile_34_18_2018-01-04.tif', 'SIC_tile_8_5_2018-01-04.tif', 'SIC_tile_50_7_2018-01-04.tif', 'SIC_tile_18_11_2018-01-04.tif', 'SIC_tile_21_8_2018-01-04.tif', 'SIC_tile_53_16_2018-01-04.tif', 'SIC_tile_25_9_2018-01-04.tif', 'SIC_tile_28_10_2018-01-04.tif', 'SIC_tile_2_19_2018-01-04.tif', 'SIC_tile_55_5_2018-01-04.tif', 'SIC_tile_9_6_2018-01-04.tif', 'SIC_tile_5_15_2018-01-04.tif', 'SIC_tile_51_4_2018-01-04.tif', 'SIC_tile_36_13_2018-01-04.tif', 'SIC_tile_48_12_2018-01-04.tif', 'SIC_tile_0_12_2018-01-04.tif', 'SIC_tile_33_14_2018-01-04.tif', 'SIC_tile_30_5_2018-01-04.tif', 'SIC_tile_50_13_2018-01-04.tif', 'SIC_tile_34_4_2018-01-04.tif', 'SIC_tile_60_2_2018-01-04.tif', 'SIC_tile_2_1_2018-01-04.tif', 'SIC_tile_55_14_2018-01-04.tif', 'SIC_tile_6_0_2018-01-04.tif', 'SIC_tile_60_12_2018-01-04.tif', 'SIC_tile_52_18_2018-01-04.tif', 'SIC_tile_31_6_2018-01-04.tif', 'SIC_tile_30_11_2018-01-04.tif', 'SIC_tile_35_7_2018-01-04.tif', 'SIC_tile_3_17_2018-01-04.tif', 'SIC_tile_61_1_2018-01-04.tif', 'SIC_tile_44_8_2018-01-04.tif', 'SIC_tile_3_2_2018-01-04.tif', 'SIC_tile_62_19_2018-01-04.tif', 'SIC_tile_35_16_2018-01-04.tif', 'SIC_tile_40_9_2018-01-04.tif', 'SIC_tile_7_3_2018-01-04.tif', 'SIC_tile_6_10_2018-01-04.tif', 'SIC_tile_33_15_2018-01-04.tif', 'SIC_tile_48_13_2018-01-04.tif', 'SIC_tile_0_13_2018-01-04.tif', 'SIC_tile_51_5_2018-01-04.tif', 'SIC_tile_36_12_2018-01-04.tif', 'SIC_tile_55_4_2018-01-04.tif', 'SIC_tile_5_14_2018-01-04.tif', 'SIC_tile_9_7_2018-01-04.tif', 'SIC_tile_25_8_2018-01-04.tif', 'SIC_tile_28_11_2018-01-04.tif', 'SIC_tile_2_18_2018-01-04.tif', 'SIC_tile_53_17_2018-01-04.tif', 'SIC_tile_21_9_2018-01-04.tif', 'SIC_tile_18_10_2018-01-04.tif', 'SIC_tile_50_6_2018-01-04.tif', 'SIC_tile_54_7_2018-01-04.tif', 'SIC_tile_56_10_2018-01-04.tif', 'SIC_tile_8_4_2018-01-04.tif', 'SIC_tile_34_19_2018-01-04.tif', 'SIC_tile_40_8_2018-01-04.tif', 'SIC_tile_6_11_2018-01-04.tif', 'SIC_tile_7_2_2018-01-04.tif', 'SIC_tile_44_9_2018-01-04.tif', 'SIC_tile_61_0_2018-01-04.tif', 'SIC_tile_35_17_2018-01-04.tif', 'SIC_tile_62_18_2018-01-04.tif', 'SIC_tile_3_3_2018-01-04.tif', 'SIC_tile_35_6_2018-01-04.tif', 'SIC_tile_3_16_2018-01-04.tif', 'SIC_tile_31_7_2018-01-04.tif', 'SIC_tile_52_19_2018-01-04.tif', 'SIC_tile_30_10_2018-01-04.tif', 'SIC_tile_55_15_2018-01-04.tif', 'SIC_tile_60_13_2018-01-04.tif', 'SIC_tile_6_1_2018-01-04.tif', 'SIC_tile_60_3_2018-01-04.tif', 'SIC_tile_2_0_2018-01-04.tif', 'SIC_tile_34_5_2018-01-04.tif', 'SIC_tile_50_12_2018-01-04.tif', 'SIC_tile_30_4_2018-01-04.tif', 'SIC_tile_49_15_2018-01-04.tif', 'SIC_tile_15_5_2018-01-04.tif', 'SIC_tile_1_15_2018-01-04.tif', 'SIC_tile_11_4_2018-01-04.tif', 'SIC_tile_32_13_2018-01-04.tif', 'SIC_tile_45_2_2018-01-04.tif', 'SIC_tile_2_8_2018-01-04.tif', 'SIC_tile_4_12_2018-01-04.tif', 'SIC_tile_41_3_2018-01-04.tif', 'SIC_tile_37_14_2018-01-04.tif', 'SIC_tile_6_9_2018-01-04.tif', 'SIC_tile_14_6_2018-01-04.tif', 'SIC_tile_52_11_2018-01-04.tif', 'SIC_tile_30_18_2018-01-04.tif', 'SIC_tile_10_7_2018-01-04.tif', 'SIC_tile_29_17_2018-01-04.tif', 'SIC_tile_57_16_2018-01-04.tif', 'SIC_tile_44_1_2018-01-04.tif', 'SIC_tile_61_8_2018-01-04.tif', 'SIC_tile_62_10_2018-01-04.tif', 'SIC_tile_19_16_2018-01-04.tif', 'SIC_tile_40_0_2018-01-04.tif', 'SIC_tile_6_19_2018-01-04.tif', 'SIC_tile_56_18_2018-01-04.tif', 'SIC_tile_34_11_2018-01-04.tif', 'SIC_tile_18_18_2018-01-04.tif', 'SIC_tile_7_17_2018-01-04.tif', 'SIC_tile_21_1_2018-01-04.tif', 'SIC_tile_31_16_2018-01-04.tif', 'SIC_tile_25_0_2018-01-04.tif', 'SIC_tile_28_19_2018-01-04.tif', 'SIC_tile_2_10_2018-01-04.tif', 'SIC_tile_54_13_2018-01-04.tif', 'SIC_tile_61_15_2018-01-04.tif', 'SIC_tile_20_2_2018-01-04.tif', 'SIC_tile_51_14_2018-01-04.tif', 'SIC_tile_24_3_2018-01-04.tif', 'SIC_tile_8_3_2018-01-04.tif', 'SIC_tile_56_17_2018-01-04.tif', 'SIC_tile_54_0_2018-01-04.tif', 'SIC_tile_7_18_2018-01-04.tif', 'SIC_tile_18_17_2018-01-04.tif', 'SIC_tile_50_1_2018-01-04.tif', 'SIC_tile_31_19_2018-01-04.tif', 'SIC_tile_53_10_2018-01-04.tif', 'SIC_tile_28_16_2018-01-04.tif', 'SIC_tile_5_13_2018-01-04.tif', 'SIC_tile_9_0_2018-01-04.tif', 'SIC_tile_55_3_2018-01-04.tif', 'SIC_tile_36_15_2018-01-04.tif', 'SIC_tile_51_2_2018-01-04.tif', 'SIC_tile_0_14_2018-01-04.tif', 'SIC_tile_48_14_2018-01-04.tif', 'SIC_tile_33_12_2018-01-04.tif', 'SIC_tile_30_3_2018-01-04.tif', 'SIC_tile_50_15_2018-01-04.tif', 'SIC_tile_34_2_2018-01-04.tif', 'SIC_tile_2_7_2018-01-04.tif', 'SIC_tile_60_4_2018-01-04.tif', 'SIC_tile_60_14_2018-01-04.tif', 'SIC_tile_6_6_2018-01-04.tif', 'SIC_tile_55_12_2018-01-04.tif', 'SIC_tile_30_17_2018-01-04.tif', 'SIC_tile_14_9_2018-01-04.tif', 'SIC_tile_31_0_2018-01-04.tif', 'SIC_tile_29_18_2018-01-04.tif', 'SIC_tile_3_11_2018-01-04.tif', 'SIC_tile_10_8_2018-01-04.tif', 'SIC_tile_35_1_2018-01-04.tif', 'SIC_tile_3_4_2018-01-04.tif', 'SIC_tile_35_10_2018-01-04.tif', 'SIC_tile_61_7_2018-01-04.tif', 'SIC_tile_57_19_2018-01-04.tif', 'SIC_tile_7_5_2018-01-04.tif', 'SIC_tile_6_16_2018-01-04.tif', 'SIC_tile_19_19_2018-01-04.tif', 'SIC_tile_19_11_2018-01-04.tif', 'SIC_tile_40_7_2018-01-04.tif', 'SIC_tile_35_18_2018-01-04.tif', 'SIC_tile_62_17_2018-01-04.tif', 'SIC_tile_44_6_2018-01-04.tif', 'SIC_tile_57_11_2018-01-04.tif', 'SIC_tile_29_10_2018-01-04.tif', 'SIC_tile_3_19_2018-01-04.tif', 'SIC_tile_10_0_2018-01-04.tif', 'SIC_tile_35_9_2018-01-04.tif', 'SIC_tile_52_16_2018-01-04.tif', 'SIC_tile_14_1_2018-01-04.tif', 'SIC_tile_31_8_2018-01-04.tif', 'SIC_tile_37_13_2018-01-04.tif', 'SIC_tile_41_4_2018-01-04.tif', 'SIC_tile_4_15_2018-01-04.tif', 'SIC_tile_45_5_2018-01-04.tif', 'SIC_tile_32_14_2018-01-04.tif', 'SIC_tile_11_3_2018-01-04.tif', 'SIC_tile_1_12_2018-01-04.tif', 'SIC_tile_15_2_2018-01-04.tif', 'SIC_tile_49_12_2018-01-04.tif', 'SIC_tile_24_4_2018-01-04.tif', 'SIC_tile_51_13_2018-01-04.tif', 'SIC_tile_20_5_2018-01-04.tif', 'SIC_tile_61_12_2018-01-04.tif', 'SIC_tile_54_14_2018-01-04.tif', 'SIC_tile_9_8_2018-01-04.tif', 'SIC_tile_2_17_2018-01-04.tif', 'SIC_tile_25_7_2018-01-04.tif', 'SIC_tile_31_11_2018-01-04.tif', 'SIC_tile_21_6_2018-01-04.tif', 'SIC_tile_53_18_2018-01-04.tif', 'SIC_tile_7_10_2018-01-04.tif', 'SIC_tile_50_9_2018-01-04.tif', 'SIC_tile_34_16_2018-01-04.tif', 'SIC_tile_54_8_2018-01-04.tif', 'SIC_tile_61_5_2018-01-04.tif', 'SIC_tile_35_12_2018-01-04.tif', 'SIC_tile_3_6_2018-01-04.tif', 'SIC_tile_6_14_2018-01-04.tif', 'SIC_tile_7_7_2018-01-04.tif', 'SIC_tile_31_2_2018-01-04.tif', 'SIC_tile_30_15_2018-01-04.tif', 'SIC_tile_35_3_2018-01-04.tif', 'SIC_tile_3_13_2018-01-04.tif', 'SIC_tile_60_6_2018-01-04.tif', 'SIC_tile_2_5_2018-01-04.tif', 'SIC_tile_55_10_2018-01-04.tif', 'SIC_tile_6_4_2018-01-04.tif', 'SIC_tile_60_16_2018-01-04.tif', 'SIC_tile_37_19_2018-01-04.tif', 'SIC_tile_49_18_2018-01-04.tif', 'SIC_tile_30_1_2018-01-04.tif', 'SIC_tile_15_8_2018-01-04.tif', 'SIC_tile_1_18_2018-01-04.tif', 'SIC_tile_34_0_2018-01-04.tif', 'SIC_tile_50_17_2018-01-04.tif', 'SIC_tile_11_9_2018-01-04.tif', 'SIC_tile_48_16_2018-01-04.tif', 'SIC_tile_0_16_2018-01-04.tif', 'SIC_tile_51_19_2018-01-04.tif', 'SIC_tile_33_10_2018-01-04.tif', 'SIC_tile_55_1_2018-01-04.tif', 'SIC_tile_9_2_2018-01-04.tif', 'SIC_tile_5_11_2018-01-04.tif', 'SIC_tile_51_0_2018-01-04.tif', 'SIC_tile_36_17_2018-01-04.tif', 'SIC_tile_61_18_2018-01-04.tif', 'SIC_tile_53_12_2018-01-04.tif', 'SIC_tile_28_14_2018-01-04.tif', 'SIC_tile_54_2_2018-01-04.tif', 'SIC_tile_56_15_2018-01-04.tif', 'SIC_tile_8_1_2018-01-04.tif', 'SIC_tile_50_3_2018-01-04.tif', 'SIC_tile_18_15_2018-01-04.tif', 'SIC_tile_7_12_2018-01-04.tif', 'SIC_tile_8_9_2018-01-04.tif', 'SIC_tile_34_14_2018-01-04.tif', 'SIC_tile_25_5_2018-01-04.tif', 'SIC_tile_2_15_2018-01-04.tif', 'SIC_tile_21_4_2018-01-04.tif', 'SIC_tile_31_13_2018-01-04.tif', 'SIC_tile_54_16_2018-01-04.tif', 'SIC_tile_51_8_2018-01-04.tif', 'SIC_tile_61_10_2018-01-04.tif', 'SIC_tile_55_9_2018-01-04.tif', 'SIC_tile_5_19_2018-01-04.tif', 'SIC_tile_51_11_2018-01-04.tif', 'SIC_tile_24_6_2018-01-04.tif', 'SIC_tile_33_18_2018-01-04.tif', 'SIC_tile_20_7_2018-01-04.tif', 'SIC_tile_34_8_2018-01-04.tif', 'SIC_tile_11_1_2018-01-04.tif', 'SIC_tile_32_16_2018-01-04.tif', 'SIC_tile_49_10_2018-01-04.tif', 'SIC_tile_30_9_2018-01-04.tif', 'SIC_tile_15_0_2018-01-04.tif', 'SIC_tile_1_10_2018-01-04.tif', 'SIC_tile_41_6_2018-01-04.tif', 'SIC_tile_55_18_2018-01-04.tif', 'SIC_tile_37_11_2018-01-04.tif', 'SIC_tile_45_7_2018-01-04.tif', 'SIC_tile_4_17_2018-01-04.tif', 'SIC_tile_10_2_2018-01-04.tif', 'SIC_tile_29_12_2018-01-04.tif', 'SIC_tile_14_3_2018-01-04.tif', 'SIC_tile_52_14_2018-01-04.tif', 'SIC_tile_40_5_2018-01-04.tif', 'SIC_tile_19_13_2018-01-04.tif', 'SIC_tile_57_13_2018-01-04.tif', 'SIC_tile_44_4_2018-01-04.tif', 'SIC_tile_62_15_2018-01-04.tif', 'SIC_tile_32_19_2018-01-04.tif', 'SIC_tile_50_10_2018-01-04.tif', 'SIC_tile_34_7_2018-01-04.tif', 'SIC_tile_30_6_2018-01-04.tif', 'SIC_tile_6_3_2018-01-04.tif', 'SIC_tile_60_11_2018-01-04.tif', 'SIC_tile_55_17_2018-01-04.tif', 'SIC_tile_41_9_2018-01-04.tif', 'SIC_tile_4_18_2018-01-04.tif', 'SIC_tile_2_2_2018-01-04.tif', 'SIC_tile_60_1_2018-01-04.tif', 'SIC_tile_45_8_2018-01-04.tif', 'SIC_tile_3_14_2018-01-04.tif', 'SIC_tile_35_4_2018-01-04.tif', 'SIC_tile_30_12_2018-01-04.tif', 'SIC_tile_31_5_2018-01-04.tif', 'SIC_tile_7_0_2018-01-04.tif', 'SIC_tile_6_13_2018-01-04.tif', 'SIC_tile_3_1_2018-01-04.tif', 'SIC_tile_35_15_2018-01-04.tif', 'SIC_tile_61_2_2018-01-04.tif', 'SIC_tile_50_4_2018-01-04.tif', 'SIC_tile_18_12_2018-01-04.tif', 'SIC_tile_8_6_2018-01-04.tif', 'SIC_tile_56_12_2018-01-04.tif', 'SIC_tile_54_5_2018-01-04.tif', 'SIC_tile_28_13_2018-01-04.tif', 'SIC_tile_53_15_2018-01-04.tif', 'SIC_tile_36_10_2018-01-04.tif', 'SIC_tile_51_7_2018-01-04.tif', 'SIC_tile_54_19_2018-01-04.tif', 'SIC_tile_9_5_2018-01-04.tif', 'SIC_tile_5_16_2018-01-04.tif', 'SIC_tile_55_6_2018-01-04.tif', 'SIC_tile_33_17_2018-01-04.tif', 'SIC_tile_24_9_2018-01-04.tif', 'SIC_tile_0_11_2018-01-04.tif', 'SIC_tile_48_11_2018-01-04.tif', 'SIC_tile_20_8_2018-01-04.tif', 'SIC_tile_0_19_2018-01-04.tif', 'SIC_tile_48_19_2018-01-04.tif', 'SIC_tile_20_0_2018-01-04.tif', 'SIC_tile_24_1_2018-01-04.tif', 'SIC_tile_51_16_2018-01-04.tif', 'SIC_tile_36_18_2018-01-04.tif', 'SIC_tile_61_17_2018-01-04.tif', 'SIC_tile_54_11_2018-01-04.tif', 'SIC_tile_31_14_2018-01-04.tif', 'SIC_tile_21_3_2018-01-04.tif', 'SIC_tile_2_12_2018-01-04.tif', 'SIC_tile_25_2_2018-01-04.tif', 'SIC_tile_34_13_2018-01-04.tif', 'SIC_tile_7_15_2018-01-04.tif', 'SIC_tile_3_9_2018-01-04.tif', 'SIC_tile_62_12_2018-01-04.tif', 'SIC_tile_44_3_2018-01-04.tif', 'SIC_tile_57_14_2018-01-04.tif', 'SIC_tile_7_8_2018-01-04.tif', 'SIC_tile_40_2_2018-01-04.tif', 'SIC_tile_19_14_2018-01-04.tif', 'SIC_tile_52_13_2018-01-04.tif', 'SIC_tile_14_4_2018-01-04.tif', 'SIC_tile_29_15_2018-01-04.tif', 'SIC_tile_10_5_2018-01-04.tif', 'SIC_tile_4_10_2018-01-04.tif', 'SIC_tile_60_9_2018-01-04.tif', 'SIC_tile_45_0_2018-01-04.tif', 'SIC_tile_60_19_2018-01-04.tif', 'SIC_tile_37_16_2018-01-04.tif', 'SIC_tile_41_1_2018-01-04.tif', 'SIC_tile_1_17_2018-01-04.tif', 'SIC_tile_15_7_2018-01-04.tif', 'SIC_tile_49_17_2018-01-04.tif', 'SIC_tile_32_11_2018-01-04.tif', 'SIC_tile_11_6_2018-01-04.tif', 'SIC_tile_50_18_2018-01-04.tif', 'SIC_tile_7_14_2018-01-04.tif', 'SIC_tile_34_12_2018-01-04.tif', 'SIC_tile_2_13_2018-01-04.tif', 'SIC_tile_25_3_2018-01-04.tif', 'SIC_tile_31_15_2018-01-04.tif', 'SIC_tile_21_2_2018-01-04.tif', 'SIC_tile_61_16_2018-01-04.tif', 'SIC_tile_36_19_2018-01-04.tif', 'SIC_tile_54_10_2018-01-04.tif', 'SIC_tile_51_17_2018-01-04.tif', 'SIC_tile_24_0_2018-01-04.tif', 'SIC_tile_0_18_2018-01-04.tif', 'SIC_tile_20_1_2018-01-04.tif', 'SIC_tile_48_18_2018-01-04.tif', 'SIC_tile_32_10_2018-01-04.tif', 'SIC_tile_50_19_2018-01-04.tif', 'SIC_tile_11_7_2018-01-04.tif', 'SIC_tile_1_16_2018-01-04.tif', 'SIC_tile_49_16_2018-01-04.tif', 'SIC_tile_15_6_2018-01-04.tif', 'SIC_tile_37_17_2018-01-04.tif', 'SIC_tile_60_18_2018-01-04.tif', 'SIC_tile_41_0_2018-01-04.tif', 'SIC_tile_4_11_2018-01-04.tif', 'SIC_tile_45_1_2018-01-04.tif', 'SIC_tile_60_8_2018-01-04.tif', 'SIC_tile_29_14_2018-01-04.tif', 'SIC_tile_10_4_2018-01-04.tif', 'SIC_tile_14_5_2018-01-04.tif', 'SIC_tile_52_12_2018-01-04.tif', 'SIC_tile_7_9_2018-01-04.tif', 'SIC_tile_19_15_2018-01-04.tif', 'SIC_tile_40_3_2018-01-04.tif', 'SIC_tile_62_13_2018-01-04.tif', 'SIC_tile_3_8_2018-01-04.tif', 'SIC_tile_57_15_2018-01-04.tif', 'SIC_tile_44_2_2018-01-04.tif', 'SIC_tile_35_14_2018-01-04.tif', 'SIC_tile_3_0_2018-01-04.tif', 'SIC_tile_61_3_2018-01-04.tif', 'SIC_tile_6_12_2018-01-04.tif', 'SIC_tile_7_1_2018-01-04.tif', 'SIC_tile_30_13_2018-01-04.tif', 'SIC_tile_31_4_2018-01-04.tif', 'SIC_tile_3_15_2018-01-04.tif', 'SIC_tile_35_5_2018-01-04.tif', 'SIC_tile_2_3_2018-01-04.tif', 'SIC_tile_4_19_2018-01-04.tif', 'SIC_tile_45_9_2018-01-04.tif', 'SIC_tile_60_0_2018-01-04.tif', 'SIC_tile_60_10_2018-01-04.tif', 'SIC_tile_6_2_2018-01-04.tif', 'SIC_tile_41_8_2018-01-04.tif', 'SIC_tile_55_16_2018-01-04.tif', 'SIC_tile_30_7_2018-01-04.tif', 'SIC_tile_32_18_2018-01-04.tif', 'SIC_tile_34_6_2018-01-04.tif', 'SIC_tile_50_11_2018-01-04.tif', 'SIC_tile_0_10_2018-01-04.tif', 'SIC_tile_20_9_2018-01-04.tif', 'SIC_tile_48_10_2018-01-04.tif', 'SIC_tile_33_16_2018-01-04.tif', 'SIC_tile_24_8_2018-01-04.tif', 'SIC_tile_5_17_2018-01-04.tif', 'SIC_tile_9_4_2018-01-04.tif', 'SIC_tile_55_7_2018-01-04.tif', 'SIC_tile_36_11_2018-01-04.tif', 'SIC_tile_54_18_2018-01-04.tif', 'SIC_tile_51_6_2018-01-04.tif', 'SIC_tile_53_14_2018-01-04.tif', 'SIC_tile_28_12_2018-01-04.tif', 'SIC_tile_8_7_2018-01-04.tif', 'SIC_tile_54_4_2018-01-04.tif', 'SIC_tile_56_13_2018-01-04.tif', 'SIC_tile_18_13_2018-01-04.tif', 'SIC_tile_50_5_2018-01-04.tif', 'SIC_tile_20_6_2018-01-04.tif', 'SIC_tile_24_7_2018-01-04.tif', 'SIC_tile_51_10_2018-01-04.tif', 'SIC_tile_33_19_2018-01-04.tif', 'SIC_tile_55_8_2018-01-04.tif', 'SIC_tile_5_18_2018-01-04.tif', 'SIC_tile_51_9_2018-01-04.tif', 'SIC_tile_54_17_2018-01-04.tif', 'SIC_tile_61_11_2018-01-04.tif', 'SIC_tile_21_5_2018-01-04.tif', 'SIC_tile_31_12_2018-01-04.tif', 'SIC_tile_25_4_2018-01-04.tif', 'SIC_tile_2_14_2018-01-04.tif', 'SIC_tile_34_15_2018-01-04.tif', 'SIC_tile_8_8_2018-01-04.tif', 'SIC_tile_7_13_2018-01-04.tif', 'SIC_tile_44_5_2018-01-04.tif', 'SIC_tile_57_12_2018-01-04.tif', 'SIC_tile_62_14_2018-01-04.tif', 'SIC_tile_19_12_2018-01-04.tif', 'SIC_tile_40_4_2018-01-04.tif', 'SIC_tile_52_15_2018-01-04.tif', 'SIC_tile_14_2_2018-01-04.tif', 'SIC_tile_10_3_2018-01-04.tif', 'SIC_tile_29_13_2018-01-04.tif', 'SIC_tile_45_6_2018-01-04.tif', 'SIC_tile_4_16_2018-01-04.tif', 'SIC_tile_55_19_2018-01-04.tif', 'SIC_tile_41_7_2018-01-04.tif', 'SIC_tile_37_10_2018-01-04.tif', 'SIC_tile_15_1_2018-01-04.tif', 'SIC_tile_30_8_2018-01-04.tif', 'SIC_tile_49_11_2018-01-04.tif', 'SIC_tile_1_11_2018-01-04.tif', 'SIC_tile_11_0_2018-01-04.tif', 'SIC_tile_34_9_2018-01-04.tif', 'SIC_tile_32_17_2018-01-04.tif', 'SIC_tile_11_8_2018-01-04.tif', 'SIC_tile_50_16_2018-01-04.tif', 'SIC_tile_34_1_2018-01-04.tif', 'SIC_tile_15_9_2018-01-04.tif', 'SIC_tile_30_0_2018-01-04.tif', 'SIC_tile_49_19_2018-01-04.tif', 'SIC_tile_1_19_2018-01-04.tif', 'SIC_tile_55_11_2018-01-04.tif', 'SIC_tile_37_18_2018-01-04.tif', 'SIC_tile_60_17_2018-01-04.tif', 'SIC_tile_6_5_2018-01-04.tif', 'SIC_tile_60_7_2018-01-04.tif', 'SIC_tile_2_4_2018-01-04.tif', 'SIC_tile_35_2_2018-01-04.tif', 'SIC_tile_3_12_2018-01-04.tif', 'SIC_tile_31_3_2018-01-04.tif', 'SIC_tile_30_14_2018-01-04.tif', 'SIC_tile_7_6_2018-01-04.tif', 'SIC_tile_6_15_2018-01-04.tif', 'SIC_tile_61_4_2018-01-04.tif', 'SIC_tile_3_7_2018-01-04.tif', 'SIC_tile_35_13_2018-01-04.tif', 'SIC_tile_18_14_2018-01-04.tif', 'SIC_tile_50_2_2018-01-04.tif', 'SIC_tile_56_14_2018-01-04.tif', 'SIC_tile_54_3_2018-01-04.tif', 'SIC_tile_8_0_2018-01-04.tif', 'SIC_tile_28_15_2018-01-04.tif', 'SIC_tile_53_13_2018-01-04.tif', 'SIC_tile_51_1_2018-01-04.tif', 'SIC_tile_61_19_2018-01-04.tif', 'SIC_tile_36_16_2018-01-04.tif', 'SIC_tile_55_0_2018-01-04.tif', 'SIC_tile_5_10_2018-01-04.tif', 'SIC_tile_9_3_2018-01-04.tif', 'SIC_tile_51_18_2018-01-04.tif', 'SIC_tile_33_11_2018-01-04.tif', 'SIC_tile_48_17_2018-01-04.tif', 'SIC_tile_0_17_2018-01-04.tif', 'SIC_tile_58_3_2018-01-04.tif', 'SIC_tile_4_0_2018-01-04.tif', 'SIC_tile_20_13_2018-01-04.tif', 'SIC_tile_62_2_2018-01-04.tif', 'SIC_tile_0_1_2018-01-04.tif', 'SIC_tile_15_15_2018-01-04.tif', 'SIC_tile_36_4_2018-01-04.tif', 'SIC_tile_32_5_2018-01-04.tif', 'SIC_tile_25_14_2018-01-04.tif', 'SIC_tile_10_12_2018-01-04.tif', 'SIC_tile_59_0_2018-01-04.tif', 'SIC_tile_42_9_2018-01-04.tif', 'SIC_tile_22_18_2018-01-04.tif', 'SIC_tile_8_11_2018-01-04.tif', 'SIC_tile_5_3_2018-01-04.tif', 'SIC_tile_40_11_2018-01-04.tif', 'SIC_tile_46_8_2018-01-04.tif', 'SIC_tile_1_2_2018-01-04.tif', 'SIC_tile_37_7_2018-01-04.tif', 'SIC_tile_12_19_2018-01-04.tif', 'SIC_tile_45_16_2018-01-04.tif', 'SIC_tile_33_6_2018-01-04.tif', 'SIC_tile_27_9_2018-01-04.tif', 'SIC_tile_19_9_2018-01-04.tif', 'SIC_tile_26_11_2018-01-04.tif', 'SIC_tile_44_18_2018-01-04.tif', 'SIC_tile_13_17_2018-01-04.tif', 'SIC_tile_23_8_2018-01-04.tif', 'SIC_tile_38_1_2018-01-04.tif', 'SIC_tile_52_7_2018-01-04.tif', 'SIC_tile_23_16_2018-01-04.tif', 'SIC_tile_16_10_2018-01-04.tif', 'SIC_tile_56_6_2018-01-04.tif', 'SIC_tile_58_10_2018-01-04.tif', 'SIC_tile_39_2_2018-01-04.tif', 'SIC_tile_46_13_2018-01-04.tif', 'SIC_tile_53_4_2018-01-04.tif', 'SIC_tile_38_12_2018-01-04.tif', 'SIC_tile_57_5_2018-01-04.tif', 'SIC_tile_43_14_2018-01-04.tif', 'SIC_tile_21_15_2018-01-04.tif', 'SIC_tile_14_13_2018-01-04.tif', 'SIC_tile_48_5_2018-01-04.tif', 'SIC_tile_22_3_2018-01-04.tif', 'SIC_tile_24_12_2018-01-04.tif', 'SIC_tile_11_14_2018-01-04.tif', 'SIC_tile_26_2_2018-01-04.tif', 'SIC_tile_18_2_2018-01-04.tif', 'SIC_tile_58_18_2018-01-04.tif', 'SIC_tile_49_6_2018-01-04.tif', 'SIC_tile_9_17_2018-01-04.tif', 'SIC_tile_41_17_2018-01-04.tif', 'SIC_tile_16_18_2018-01-04.tif', 'SIC_tile_23_0_2018-01-04.tif', 'SIC_tile_38_9_2018-01-04.tif', 'SIC_tile_27_1_2018-01-04.tif', 'SIC_tile_19_1_2018-01-04.tif', 'SIC_tile_26_19_2018-01-04.tif', 'SIC_tile_44_10_2018-01-04.tif', 'SIC_tile_16_7_2018-01-04.tif', 'SIC_tile_28_7_2018-01-04.tif', 'SIC_tile_27_17_2018-01-04.tif', 'SIC_tile_12_6_2018-01-04.tif', 'SIC_tile_12_11_2018-01-04.tif', 'SIC_tile_46_0_2018-01-04.tif', 'SIC_tile_59_16_2018-01-04.tif', 'SIC_tile_59_8_2018-01-04.tif', 'SIC_tile_42_1_2018-01-04.tif', 'SIC_tile_22_10_2018-01-04.tif', 'SIC_tile_8_19_2018-01-04.tif', 'SIC_tile_17_16_2018-01-04.tif', 'SIC_tile_40_19_2018-01-04.tif', 'SIC_tile_17_4_2018-01-04.tif', 'SIC_tile_29_4_2018-01-04.tif', 'SIC_tile_47_15_2018-01-04.tif', 'SIC_tile_13_5_2018-01-04.tif', 'SIC_tile_47_3_2018-01-04.tif', 'SIC_tile_0_9_2018-01-04.tif', 'SIC_tile_42_12_2018-01-04.tif', 'SIC_tile_39_14_2018-01-04.tif', 'SIC_tile_43_2_2018-01-04.tif', 'SIC_tile_4_8_2018-01-04.tif', 'SIC_tile_33_1_2018-01-04.tif', 'SIC_tile_28_8_2018-01-04.tif', 'SIC_tile_16_8_2018-01-04.tif', 'SIC_tile_45_11_2018-01-04.tif', 'SIC_tile_37_0_2018-01-04.tif', 'SIC_tile_12_9_2018-01-04.tif', 'SIC_tile_27_18_2018-01-04.tif', 'SIC_tile_59_19_2018-01-04.tif', 'SIC_tile_1_5_2018-01-04.tif', 'SIC_tile_17_19_2018-01-04.tif', 'SIC_tile_40_16_2018-01-04.tif', 'SIC_tile_5_4_2018-01-04.tif', 'SIC_tile_59_7_2018-01-04.tif', 'SIC_tile_8_16_2018-01-04.tif', 'SIC_tile_10_15_2018-01-04.tif', 'SIC_tile_25_13_2018-01-04.tif', 'SIC_tile_32_2_2018-01-04.tif', 'SIC_tile_36_3_2018-01-04.tif', 'SIC_tile_0_6_2018-01-04.tif', 'SIC_tile_15_12_2018-01-04.tif', 'SIC_tile_62_5_2018-01-04.tif', 'SIC_tile_20_14_2018-01-04.tif', 'SIC_tile_4_7_2018-01-04.tif', 'SIC_tile_58_4_2018-01-04.tif', 'SIC_tile_43_13_2018-01-04.tif', 'SIC_tile_57_2_2018-01-04.tif', 'SIC_tile_38_15_2018-01-04.tif', 'SIC_tile_53_3_2018-01-04.tif', 'SIC_tile_46_14_2018-01-04.tif', 'SIC_tile_39_5_2018-01-04.tif', 'SIC_tile_58_17_2018-01-04.tif', 'SIC_tile_56_1_2018-01-04.tif', 'SIC_tile_41_18_2018-01-04.tif', 'SIC_tile_16_17_2018-01-04.tif', 'SIC_tile_49_9_2018-01-04.tif', 'SIC_tile_23_11_2018-01-04.tif', 'SIC_tile_52_0_2018-01-04.tif', 'SIC_tile_9_18_2018-01-04.tif', 'SIC_tile_38_6_2018-01-04.tif', 'SIC_tile_13_10_2018-01-04.tif', 'SIC_tile_26_16_2018-01-04.tif', 'SIC_tile_44_17_2018-01-04.tif', 'SIC_tile_13_18_2018-01-04.tif', 'SIC_tile_19_6_2018-01-04.tif', 'SIC_tile_27_6_2018-01-04.tif', 'SIC_tile_23_7_2018-01-04.tif', 'SIC_tile_41_10_2018-01-04.tif', 'SIC_tile_49_1_2018-01-04.tif', 'SIC_tile_23_19_2018-01-04.tif', 'SIC_tile_52_8_2018-01-04.tif', 'SIC_tile_9_10_2018-01-04.tif', 'SIC_tile_56_9_2018-01-04.tif', 'SIC_tile_18_5_2018-01-04.tif', 'SIC_tile_26_5_2018-01-04.tif', 'SIC_tile_11_13_2018-01-04.tif', 'SIC_tile_24_15_2018-01-04.tif', 'SIC_tile_22_4_2018-01-04.tif', 'SIC_tile_48_2_2018-01-04.tif', 'SIC_tile_14_14_2018-01-04.tif', 'SIC_tile_21_12_2018-01-04.tif', 'SIC_tile_43_5_2018-01-04.tif', 'SIC_tile_39_13_2018-01-04.tif', 'SIC_tile_42_15_2018-01-04.tif', 'SIC_tile_47_4_2018-01-04.tif', 'SIC_tile_13_2_2018-01-04.tif', 'SIC_tile_47_12_2018-01-04.tif', 'SIC_tile_29_3_2018-01-04.tif', 'SIC_tile_17_3_2018-01-04.tif', 'SIC_tile_17_11_2018-01-04.tif', 'SIC_tile_22_17_2018-01-04.tif', 'SIC_tile_42_6_2018-01-04.tif', 'SIC_tile_59_11_2018-01-04.tif', 'SIC_tile_46_7_2018-01-04.tif', 'SIC_tile_12_16_2018-01-04.tif', 'SIC_tile_45_19_2018-01-04.tif', 'SIC_tile_37_8_2018-01-04.tif', 'SIC_tile_12_1_2018-01-04.tif', 'SIC_tile_27_10_2018-01-04.tif', 'SIC_tile_33_9_2018-01-04.tif', 'SIC_tile_28_0_2018-01-04.tif', 'SIC_tile_16_0_2018-01-04.tif', 'SIC_tile_14_15_2018-01-04.tif', 'SIC_tile_21_13_2018-01-04.tif', 'SIC_tile_48_3_2018-01-04.tif', 'SIC_tile_11_12_2018-01-04.tif', 'SIC_tile_24_14_2018-01-04.tif', 'SIC_tile_22_5_2018-01-04.tif', 'SIC_tile_26_4_2018-01-04.tif', 'SIC_tile_18_4_2018-01-04.tif', 'SIC_tile_56_8_2018-01-04.tif', 'SIC_tile_41_11_2018-01-04.tif', 'SIC_tile_23_18_2018-01-04.tif', 'SIC_tile_52_9_2018-01-04.tif', 'SIC_tile_9_11_2018-01-04.tif', 'SIC_tile_49_0_2018-01-04.tif', 'SIC_tile_23_6_2018-01-04.tif', 'SIC_tile_13_19_2018-01-04.tif', 'SIC_tile_44_16_2018-01-04.tif', 'SIC_tile_27_7_2018-01-04.tif', 'SIC_tile_19_7_2018-01-04.tif', 'SIC_tile_16_1_2018-01-04.tif', 'SIC_tile_28_1_2018-01-04.tif', 'SIC_tile_33_8_2018-01-04.tif', 'SIC_tile_45_18_2018-01-04.tif', 'SIC_tile_12_17_2018-01-04.tif', 'SIC_tile_12_0_2018-01-04.tif', 'SIC_tile_27_11_2018-01-04.tif', 'SIC_tile_37_9_2018-01-04.tif', 'SIC_tile_59_10_2018-01-04.tif', 'SIC_tile_46_6_2018-01-04.tif', 'SIC_tile_17_10_2018-01-04.tif', 'SIC_tile_22_16_2018-01-04.tif', 'SIC_tile_42_7_2018-01-04.tif', 'SIC_tile_47_13_2018-01-04.tif', 'SIC_tile_17_2_2018-01-04.tif', 'SIC_tile_29_2_2018-01-04.tif', 'SIC_tile_13_3_2018-01-04.tif', 'SIC_tile_42_14_2018-01-04.tif', 'SIC_tile_47_5_2018-01-04.tif', 'SIC_tile_39_12_2018-01-04.tif', 'SIC_tile_43_4_2018-01-04.tif', 'SIC_tile_4_6_2018-01-04.tif', 'SIC_tile_58_5_2018-01-04.tif', 'SIC_tile_15_13_2018-01-04.tif', 'SIC_tile_0_7_2018-01-04.tif', 'SIC_tile_62_4_2018-01-04.tif', 'SIC_tile_20_15_2018-01-04.tif', 'SIC_tile_36_2_2018-01-04.tif', 'SIC_tile_10_14_2018-01-04.tif', 'SIC_tile_25_12_2018-01-04.tif', 'SIC_tile_32_3_2018-01-04.tif', 'SIC_tile_5_5_2018-01-04.tif', 'SIC_tile_40_17_2018-01-04.tif', 'SIC_tile_17_18_2018-01-04.tif', 'SIC_tile_8_17_2018-01-04.tif', 'SIC_tile_59_6_2018-01-04.tif', 'SIC_tile_1_4_2018-01-04.tif', 'SIC_tile_59_18_2018-01-04.tif', 'SIC_tile_45_10_2018-01-04.tif', 'SIC_tile_12_8_2018-01-04.tif', 'SIC_tile_27_19_2018-01-04.tif', 'SIC_tile_37_1_2018-01-04.tif', 'SIC_tile_16_9_2018-01-04.tif', 'SIC_tile_28_9_2018-01-04.tif', 'SIC_tile_33_0_2018-01-04.tif', 'SIC_tile_13_11_2018-01-04.tif', 'SIC_tile_26_17_2018-01-04.tif', 'SIC_tile_38_7_2018-01-04.tif', 'SIC_tile_16_16_2018-01-04.tif', 'SIC_tile_41_19_2018-01-04.tif', 'SIC_tile_23_10_2018-01-04.tif', 'SIC_tile_52_1_2018-01-04.tif', 'SIC_tile_9_19_2018-01-04.tif', 'SIC_tile_49_8_2018-01-04.tif', 'SIC_tile_58_16_2018-01-04.tif', 'SIC_tile_56_0_2018-01-04.tif', 'SIC_tile_46_15_2018-01-04.tif', 'SIC_tile_39_4_2018-01-04.tif', 'SIC_tile_53_2_2018-01-04.tif', 'SIC_tile_38_14_2018-01-04.tif', 'SIC_tile_43_12_2018-01-04.tif', 'SIC_tile_57_3_2018-01-04.tif', 'SIC_tile_26_18_2018-01-04.tif', 'SIC_tile_19_0_2018-01-04.tif', 'SIC_tile_27_0_2018-01-04.tif', 'SIC_tile_44_11_2018-01-04.tif', 'SIC_tile_38_8_2018-01-04.tif', 'SIC_tile_23_1_2018-01-04.tif', 'SIC_tile_9_16_2018-01-04.tif', 'SIC_tile_49_7_2018-01-04.tif', 'SIC_tile_16_19_2018-01-04.tif', 'SIC_tile_41_16_2018-01-04.tif', 'SIC_tile_58_19_2018-01-04.tif', 'SIC_tile_18_3_2018-01-04.tif', 'SIC_tile_26_3_2018-01-04.tif', 'SIC_tile_22_2_2018-01-04.tif', 'SIC_tile_24_13_2018-01-04.tif', 'SIC_tile_11_15_2018-01-04.tif', 'SIC_tile_48_4_2018-01-04.tif', 'SIC_tile_21_14_2018-01-04.tif', 'SIC_tile_14_12_2018-01-04.tif', 'SIC_tile_43_3_2018-01-04.tif', 'SIC_tile_39_15_2018-01-04.tif', 'SIC_tile_4_9_2018-01-04.tif', 'SIC_tile_47_2_2018-01-04.tif', 'SIC_tile_42_13_2018-01-04.tif', 'SIC_tile_0_8_2018-01-04.tif', 'SIC_tile_13_4_2018-01-04.tif', 'SIC_tile_29_5_2018-01-04.tif', 'SIC_tile_17_5_2018-01-04.tif', 'SIC_tile_47_14_2018-01-04.tif', 'SIC_tile_42_0_2018-01-04.tif', 'SIC_tile_22_11_2018-01-04.tif', 'SIC_tile_8_18_2018-01-04.tif', 'SIC_tile_59_9_2018-01-04.tif', 'SIC_tile_40_18_2018-01-04.tif', 'SIC_tile_17_17_2018-01-04.tif', 'SIC_tile_46_1_2018-01-04.tif', 'SIC_tile_59_17_2018-01-04.tif', 'SIC_tile_27_16_2018-01-04.tif', 'SIC_tile_12_7_2018-01-04.tif', 'SIC_tile_12_10_2018-01-04.tif', 'SIC_tile_28_6_2018-01-04.tif', 'SIC_tile_16_6_2018-01-04.tif', 'SIC_tile_33_7_2018-01-04.tif', 'SIC_tile_37_6_2018-01-04.tif', 'SIC_tile_45_17_2018-01-04.tif', 'SIC_tile_12_18_2018-01-04.tif', 'SIC_tile_46_9_2018-01-04.tif', 'SIC_tile_1_3_2018-01-04.tif', 'SIC_tile_42_8_2018-01-04.tif', 'SIC_tile_22_19_2018-01-04.tif', 'SIC_tile_8_10_2018-01-04.tif', 'SIC_tile_59_1_2018-01-04.tif', 'SIC_tile_40_10_2018-01-04.tif', 'SIC_tile_5_2_2018-01-04.tif', 'SIC_tile_32_4_2018-01-04.tif', 'SIC_tile_25_15_2018-01-04.tif', 'SIC_tile_10_13_2018-01-04.tif', 'SIC_tile_36_5_2018-01-04.tif', 'SIC_tile_20_12_2018-01-04.tif', 'SIC_tile_62_3_2018-01-04.tif', 'SIC_tile_15_14_2018-01-04.tif', 'SIC_tile_0_0_2018-01-04.tif', 'SIC_tile_58_2_2018-01-04.tif', 'SIC_tile_4_1_2018-01-04.tif', 'SIC_tile_57_4_2018-01-04.tif', 'SIC_tile_43_15_2018-01-04.tif', 'SIC_tile_38_13_2018-01-04.tif', 'SIC_tile_53_5_2018-01-04.tif', 'SIC_tile_39_3_2018-01-04.tif', 'SIC_tile_46_12_2018-01-04.tif', 'SIC_tile_56_7_2018-01-04.tif', 'SIC_tile_58_11_2018-01-04.tif', 'SIC_tile_52_6_2018-01-04.tif', 'SIC_tile_23_17_2018-01-04.tif', 'SIC_tile_16_11_2018-01-04.tif', 'SIC_tile_38_0_2018-01-04.tif', 'SIC_tile_23_9_2018-01-04.tif', 'SIC_tile_26_10_2018-01-04.tif', 'SIC_tile_19_8_2018-01-04.tif', 'SIC_tile_27_8_2018-01-04.tif', 'SIC_tile_13_16_2018-01-04.tif', 'SIC_tile_44_19_2018-01-04.tif', 'SIC_tile_12_12_2018-01-04.tif', 'SIC_tile_27_14_2018-01-04.tif', 'SIC_tile_12_5_2018-01-04.tif', 'SIC_tile_16_4_2018-01-04.tif', 'SIC_tile_28_4_2018-01-04.tif', 'SIC_tile_5_8_2018-01-04.tif', 'SIC_tile_17_15_2018-01-04.tif', 'SIC_tile_42_2_2018-01-04.tif', 'SIC_tile_22_13_2018-01-04.tif', 'SIC_tile_1_9_2018-01-04.tif', 'SIC_tile_59_15_2018-01-04.tif', 'SIC_tile_46_3_2018-01-04.tif', 'SIC_tile_13_6_2018-01-04.tif', 'SIC_tile_10_19_2018-01-04.tif', 'SIC_tile_47_16_2018-01-04.tif', 'SIC_tile_17_7_2018-01-04.tif', 'SIC_tile_29_7_2018-01-04.tif', 'SIC_tile_39_17_2018-01-04.tif', 'SIC_tile_58_8_2018-01-04.tif', 'SIC_tile_43_1_2018-01-04.tif', 'SIC_tile_42_11_2018-01-04.tif', 'SIC_tile_20_18_2018-01-04.tif', 'SIC_tile_62_9_2018-01-04.tif', 'SIC_tile_47_0_2018-01-04.tif', 'SIC_tile_48_6_2018-01-04.tif', 'SIC_tile_38_19_2018-01-04.tif', 'SIC_tile_14_10_2018-01-04.tif', 'SIC_tile_21_16_2018-01-04.tif', 'SIC_tile_26_1_2018-01-04.tif', 'SIC_tile_18_1_2018-01-04.tif', 'SIC_tile_46_18_2018-01-04.tif', 'SIC_tile_11_17_2018-01-04.tif', 'SIC_tile_22_0_2018-01-04.tif', 'SIC_tile_24_11_2018-01-04.tif', 'SIC_tile_39_9_2018-01-04.tif', 'SIC_tile_41_14_2018-01-04.tif', 'SIC_tile_49_5_2018-01-04.tif', 'SIC_tile_9_14_2018-01-04.tif', 'SIC_tile_44_13_2018-01-04.tif', 'SIC_tile_27_2_2018-01-04.tif', 'SIC_tile_19_2_2018-01-04.tif', 'SIC_tile_23_3_2018-01-04.tif', 'SIC_tile_38_2_2018-01-04.tif', 'SIC_tile_13_14_2018-01-04.tif', 'SIC_tile_26_12_2018-01-04.tif', 'SIC_tile_58_13_2018-01-04.tif', 'SIC_tile_56_5_2018-01-04.tif', 'SIC_tile_16_13_2018-01-04.tif', 'SIC_tile_52_4_2018-01-04.tif', 'SIC_tile_23_15_2018-01-04.tif', 'SIC_tile_46_10_2018-01-04.tif', 'SIC_tile_22_8_2018-01-04.tif', 'SIC_tile_24_19_2018-01-04.tif', 'SIC_tile_39_1_2018-01-04.tif', 'SIC_tile_26_9_2018-01-04.tif', 'SIC_tile_18_9_2018-01-04.tif', 'SIC_tile_43_17_2018-01-04.tif', 'SIC_tile_14_18_2018-01-04.tif', 'SIC_tile_57_6_2018-01-04.tif', 'SIC_tile_53_7_2018-01-04.tif', 'SIC_tile_38_11_2018-01-04.tif', 'SIC_tile_0_2_2018-01-04.tif', 'SIC_tile_15_16_2018-01-04.tif', 'SIC_tile_42_19_2018-01-04.tif', 'SIC_tile_20_10_2018-01-04.tif', 'SIC_tile_62_1_2018-01-04.tif', 'SIC_tile_47_8_2018-01-04.tif', 'SIC_tile_4_3_2018-01-04.tif', 'SIC_tile_58_0_2018-01-04.tif', 'SIC_tile_43_9_2018-01-04.tif', 'SIC_tile_10_11_2018-01-04.tif', 'SIC_tile_32_6_2018-01-04.tif', 'SIC_tile_25_17_2018-01-04.tif', 'SIC_tile_36_7_2018-01-04.tif', 'SIC_tile_1_1_2018-01-04.tif', 'SIC_tile_5_0_2018-01-04.tif', 'SIC_tile_40_12_2018-01-04.tif', 'SIC_tile_59_3_2018-01-04.tif', 'SIC_tile_8_12_2018-01-04.tif', 'SIC_tile_33_5_2018-01-04.tif', 'SIC_tile_45_15_2018-01-04.tif', 'SIC_tile_37_4_2018-01-04.tif', 'SIC_tile_47_7_2018-01-04.tif', 'SIC_tile_15_19_2018-01-04.tif', 'SIC_tile_42_16_2018-01-04.tif', 'SIC_tile_43_6_2018-01-04.tif', 'SIC_tile_39_10_2018-01-04.tif', 'SIC_tile_25_18_2018-01-04.tif', 'SIC_tile_32_9_2018-01-04.tif', 'SIC_tile_29_0_2018-01-04.tif', 'SIC_tile_17_0_2018-01-04.tif', 'SIC_tile_47_11_2018-01-04.tif', 'SIC_tile_36_8_2018-01-04.tif', 'SIC_tile_13_1_2018-01-04.tif', 'SIC_tile_46_4_2018-01-04.tif', 'SIC_tile_59_12_2018-01-04.tif', 'SIC_tile_22_14_2018-01-04.tif', 'SIC_tile_42_5_2018-01-04.tif', 'SIC_tile_17_12_2018-01-04.tif', 'SIC_tile_28_3_2018-01-04.tif', 'SIC_tile_16_3_2018-01-04.tif', 'SIC_tile_12_2_2018-01-04.tif', 'SIC_tile_27_13_2018-01-04.tif', 'SIC_tile_12_15_2018-01-04.tif', 'SIC_tile_23_4_2018-01-04.tif', 'SIC_tile_19_5_2018-01-04.tif', 'SIC_tile_27_5_2018-01-04.tif', 'SIC_tile_44_14_2018-01-04.tif', 'SIC_tile_49_2_2018-01-04.tif', 'SIC_tile_9_13_2018-01-04.tif', 'SIC_tile_41_13_2018-01-04.tif', 'SIC_tile_24_16_2018-01-04.tif', 'SIC_tile_22_7_2018-01-04.tif', 'SIC_tile_11_10_2018-01-04.tif', 'SIC_tile_18_6_2018-01-04.tif', 'SIC_tile_26_6_2018-01-04.tif', 'SIC_tile_21_11_2018-01-04.tif', 'SIC_tile_57_9_2018-01-04.tif', 'SIC_tile_43_18_2018-01-04.tif', 'SIC_tile_14_17_2018-01-04.tif', 'SIC_tile_48_1_2018-01-04.tif', 'SIC_tile_53_8_2018-01-04.tif', 'SIC_tile_38_16_2018-01-04.tif', 'SIC_tile_48_9_2018-01-04.tif', 'SIC_tile_53_0_2018-01-04.tif', 'SIC_tile_21_19_2018-01-04.tif', 'SIC_tile_57_1_2018-01-04.tif', 'SIC_tile_43_10_2018-01-04.tif', 'SIC_tile_39_6_2018-01-04.tif', 'SIC_tile_46_17_2018-01-04.tif', 'SIC_tile_11_18_2018-01-04.tif', 'SIC_tile_23_12_2018-01-04.tif', 'SIC_tile_52_3_2018-01-04.tif', 'SIC_tile_16_14_2018-01-04.tif', 'SIC_tile_56_2_2018-01-04.tif', 'SIC_tile_58_14_2018-01-04.tif', 'SIC_tile_26_15_2018-01-04.tif', 'SIC_tile_13_13_2018-01-04.tif', 'SIC_tile_38_5_2018-01-04.tif', 'SIC_tile_37_3_2018-01-04.tif', 'SIC_tile_45_12_2018-01-04.tif', 'SIC_tile_33_2_2018-01-04.tif', 'SIC_tile_59_4_2018-01-04.tif', 'SIC_tile_8_15_2018-01-04.tif', 'SIC_tile_40_15_2018-01-04.tif', 'SIC_tile_5_7_2018-01-04.tif', 'SIC_tile_1_6_2018-01-04.tif', 'SIC_tile_36_0_2018-01-04.tif', 'SIC_tile_13_9_2018-01-04.tif', 'SIC_tile_25_10_2018-01-04.tif', 'SIC_tile_32_1_2018-01-04.tif', 'SIC_tile_29_8_2018-01-04.tif', 'SIC_tile_17_8_2018-01-04.tif', 'SIC_tile_10_16_2018-01-04.tif', 'SIC_tile_47_19_2018-01-04.tif', 'SIC_tile_58_7_2018-01-04.tif', 'SIC_tile_39_18_2018-01-04.tif', 'SIC_tile_4_4_2018-01-04.tif', 'SIC_tile_62_6_2018-01-04.tif', 'SIC_tile_20_17_2018-01-04.tif', 'SIC_tile_0_5_2018-01-04.tif', 'SIC_tile_15_11_2018-01-04.tif', 'SIC_tile_38_4_2018-01-04.tif', 'SIC_tile_26_14_2018-01-04.tif', 'SIC_tile_13_12_2018-01-04.tif', 'SIC_tile_56_3_2018-01-04.tif', 'SIC_tile_58_15_2018-01-04.tif', 'SIC_tile_23_13_2018-01-04.tif', 'SIC_tile_52_2_2018-01-04.tif', 'SIC_tile_16_15_2018-01-04.tif', 'SIC_tile_39_7_2018-01-04.tif', 'SIC_tile_11_19_2018-01-04.tif', 'SIC_tile_46_16_2018-01-04.tif', 'SIC_tile_57_0_2018-01-04.tif', 'SIC_tile_21_18_2018-01-04.tif', 'SIC_tile_43_11_2018-01-04.tif', 'SIC_tile_53_1_2018-01-04.tif', 'SIC_tile_48_8_2018-01-04.tif', 'SIC_tile_38_17_2018-01-04.tif', 'SIC_tile_62_7_2018-01-04.tif', 'SIC_tile_20_16_2018-01-04.tif', 'SIC_tile_15_10_2018-01-04.tif', 'SIC_tile_0_4_2018-01-04.tif', 'SIC_tile_39_19_2018-01-04.tif', 'SIC_tile_58_6_2018-01-04.tif', 'SIC_tile_4_5_2018-01-04.tif', 'SIC_tile_17_9_2018-01-04.tif', 'SIC_tile_29_9_2018-01-04.tif', 'SIC_tile_25_11_2018-01-04.tif', 'SIC_tile_32_0_2018-01-04.tif', 'SIC_tile_47_18_2018-01-04.tif', 'SIC_tile_10_17_2018-01-04.tif', 'SIC_tile_13_8_2018-01-04.tif', 'SIC_tile_36_1_2018-01-04.tif', 'SIC_tile_1_7_2018-01-04.tif', 'SIC_tile_8_14_2018-01-04.tif', 'SIC_tile_59_5_2018-01-04.tif', 'SIC_tile_5_6_2018-01-04.tif', 'SIC_tile_40_14_2018-01-04.tif', 'SIC_tile_33_3_2018-01-04.tif', 'SIC_tile_37_2_2018-01-04.tif', 'SIC_tile_45_13_2018-01-04.tif', 'SIC_tile_12_3_2018-01-04.tif', 'SIC_tile_27_12_2018-01-04.tif', 'SIC_tile_12_14_2018-01-04.tif', 'SIC_tile_16_2_2018-01-04.tif', 'SIC_tile_28_2_2018-01-04.tif', 'SIC_tile_22_15_2018-01-04.tif', 'SIC_tile_42_4_2018-01-04.tif', 'SIC_tile_17_13_2018-01-04.tif', 'SIC_tile_46_5_2018-01-04.tif', 'SIC_tile_59_13_2018-01-04.tif', 'SIC_tile_13_0_2018-01-04.tif', 'SIC_tile_36_9_2018-01-04.tif', 'SIC_tile_17_1_2018-01-04.tif', 'SIC_tile_29_1_2018-01-04.tif', 'SIC_tile_25_19_2018-01-04.tif', 'SIC_tile_32_8_2018-01-04.tif', 'SIC_tile_47_10_2018-01-04.tif', 'SIC_tile_39_11_2018-01-04.tif', 'SIC_tile_43_7_2018-01-04.tif', 'SIC_tile_47_6_2018-01-04.tif', 'SIC_tile_42_17_2018-01-04.tif', 'SIC_tile_15_18_2018-01-04.tif', 'SIC_tile_53_9_2018-01-04.tif', 'SIC_tile_48_0_2018-01-04.tif', 'SIC_tile_57_8_2018-01-04.tif', 'SIC_tile_21_10_2018-01-04.tif', 'SIC_tile_14_16_2018-01-04.tif', 'SIC_tile_43_19_2018-01-04.tif', 'SIC_tile_26_7_2018-01-04.tif', 'SIC_tile_18_7_2018-01-04.tif', 'SIC_tile_24_17_2018-01-04.tif', 'SIC_tile_22_6_2018-01-04.tif', 'SIC_tile_11_11_2018-01-04.tif', 'SIC_tile_9_12_2018-01-04.tif', 'SIC_tile_49_3_2018-01-04.tif', 'SIC_tile_41_12_2018-01-04.tif', 'SIC_tile_27_4_2018-01-04.tif', 'SIC_tile_19_4_2018-01-04.tif', 'SIC_tile_44_15_2018-01-04.tif', 'SIC_tile_23_5_2018-01-04.tif', 'SIC_tile_38_10_2018-01-04.tif', 'SIC_tile_53_6_2018-01-04.tif', 'SIC_tile_14_19_2018-01-04.tif', 'SIC_tile_43_16_2018-01-04.tif', 'SIC_tile_57_7_2018-01-04.tif', 'SIC_tile_18_8_2018-01-04.tif', 'SIC_tile_26_8_2018-01-04.tif', 'SIC_tile_46_11_2018-01-04.tif', 'SIC_tile_39_0_2018-01-04.tif', 'SIC_tile_22_9_2018-01-04.tif', 'SIC_tile_24_18_2018-01-04.tif', 'SIC_tile_16_12_2018-01-04.tif', 'SIC_tile_52_5_2018-01-04.tif', 'SIC_tile_23_14_2018-01-04.tif', 'SIC_tile_58_12_2018-01-04.tif', 'SIC_tile_56_4_2018-01-04.tif', 'SIC_tile_13_15_2018-01-04.tif', 'SIC_tile_26_13_2018-01-04.tif', 'SIC_tile_38_3_2018-01-04.tif', 'SIC_tile_45_14_2018-01-04.tif', 'SIC_tile_37_5_2018-01-04.tif', 'SIC_tile_33_4_2018-01-04.tif', 'SIC_tile_40_13_2018-01-04.tif', 'SIC_tile_5_1_2018-01-04.tif', 'SIC_tile_8_13_2018-01-04.tif', 'SIC_tile_59_2_2018-01-04.tif', 'SIC_tile_1_0_2018-01-04.tif', 'SIC_tile_36_6_2018-01-04.tif', 'SIC_tile_10_10_2018-01-04.tif', 'SIC_tile_32_7_2018-01-04.tif', 'SIC_tile_25_16_2018-01-04.tif', 'SIC_tile_4_2_2018-01-04.tif', 'SIC_tile_43_8_2018-01-04.tif', 'SIC_tile_58_1_2018-01-04.tif', 'SIC_tile_42_18_2018-01-04.tif', 'SIC_tile_15_17_2018-01-04.tif', 'SIC_tile_0_3_2018-01-04.tif', 'SIC_tile_47_9_2018-01-04.tif', 'SIC_tile_20_11_2018-01-04.tif', 'SIC_tile_62_0_2018-01-04.tif', 'SIC_tile_42_10_2018-01-04.tif', 'SIC_tile_47_1_2018-01-04.tif', 'SIC_tile_20_19_2018-01-04.tif', 'SIC_tile_62_8_2018-01-04.tif', 'SIC_tile_43_0_2018-01-04.tif', 'SIC_tile_58_9_2018-01-04.tif', 'SIC_tile_39_16_2018-01-04.tif', 'SIC_tile_47_17_2018-01-04.tif', 'SIC_tile_10_18_2018-01-04.tif', 'SIC_tile_29_6_2018-01-04.tif', 'SIC_tile_17_6_2018-01-04.tif', 'SIC_tile_13_7_2018-01-04.tif', 'SIC_tile_59_14_2018-01-04.tif', 'SIC_tile_1_8_2018-01-04.tif', 'SIC_tile_46_2_2018-01-04.tif', 'SIC_tile_17_14_2018-01-04.tif', 'SIC_tile_5_9_2018-01-04.tif', 'SIC_tile_42_3_2018-01-04.tif', 'SIC_tile_22_12_2018-01-04.tif', 'SIC_tile_28_5_2018-01-04.tif', 'SIC_tile_16_5_2018-01-04.tif', 'SIC_tile_12_13_2018-01-04.tif', 'SIC_tile_27_15_2018-01-04.tif', 'SIC_tile_12_4_2018-01-04.tif', 'SIC_tile_23_2_2018-01-04.tif', 'SIC_tile_44_12_2018-01-04.tif', 'SIC_tile_19_3_2018-01-04.tif', 'SIC_tile_27_3_2018-01-04.tif', 'SIC_tile_41_15_2018-01-04.tif', 'SIC_tile_9_15_2018-01-04.tif', 'SIC_tile_49_4_2018-01-04.tif', 'SIC_tile_11_16_2018-01-04.tif', 'SIC_tile_46_19_2018-01-04.tif', 'SIC_tile_39_8_2018-01-04.tif', 'SIC_tile_22_1_2018-01-04.tif', 'SIC_tile_24_10_2018-01-04.tif', 'SIC_tile_18_0_2018-01-04.tif', 'SIC_tile_26_0_2018-01-04.tif', 'SIC_tile_14_11_2018-01-04.tif', 'SIC_tile_21_17_2018-01-04.tif', 'SIC_tile_38_18_2018-01-04.tif', 'SIC_tile_48_7_2018-01-04.tif']\n"
     ]
    }
   ],
   "source": [
    "removed_files = remove_files_without_match(SAR_dir, SIC_dir)\n",
    "print(f\"Removed files: {removed_files}\")"
   ]
  },
  {
   "cell_type": "code",
   "execution_count": null,
   "metadata": {},
   "outputs": [],
   "source": []
  }
 ],
 "metadata": {
  "kernelspec": {
   "display_name": "base",
   "language": "python",
   "name": "base"
  },
  "language_info": {
   "codemirror_mode": {
    "name": "ipython",
    "version": 3
   },
   "file_extension": ".py",
   "mimetype": "text/x-python",
   "name": "python",
   "nbconvert_exporter": "python",
   "pygments_lexer": "ipython3",
   "version": "3.9.15"
  },
  "orig_nbformat": 4
 },
 "nbformat": 4,
 "nbformat_minor": 2
}
